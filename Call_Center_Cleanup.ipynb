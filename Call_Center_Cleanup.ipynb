{
 "cells": [
  {
   "cell_type": "markdown",
   "id": "331a1c4f",
   "metadata": {},
   "source": [
    "# Call Center Cleanup\n",
    "\n",
    "For this assignment, we will be working with call center data. You can start working on the assignment after the first lesson on Exploratory Data Analysis. Make sure to read the whole assignment before starting anything! As you code along in the Jupyter notebook, you are asked to make note of the results of your analysis. Do so by clicking on the results box and adding your notes beside each question.\n",
    "\n",
    "## Business Issue and Understanding\n",
    "\n",
    "You are working for a company that has two call centers: the North Call Center and the South Call Center. The company is looking to possibly hire five additional reps to enhance customer experience. Your task is to explore how efficient the current reps are in each branch to determine which branch would benefit from additional assistance.\n",
    "\n",
    "### How the Call Center Works\n",
    "\n",
    "Call center representatives are assigned queues. When calls are assigned to a queue, the call is assigned to the next person in line in the queue. After a call is assigned to a representative, the amount of time between assignment and the call starting is divided into busy minutes and not ready minutes. If the call is incoming and a customer is waiting on the phone for a rep, the time is split into three categories: busy minutes, not ready minutes, and incoming call wait time. Once the rep has the customer on the phone, there might be during call wait time, where the call is put on hold while the rep gets an answer for the customer.\n",
    "\n",
    "### Notes about the Dataset\n",
    "\n",
    "If you haven't worked in a call center before, these notes might help you throughout your analysis.\n",
    "\n",
    "* The call purpose is tagged for each call.\n",
    "* The time of the call is tagged in 1 hour blocks starting at 9:00 AM and ending at 5:00 PM.\n",
    "* Calls are tagged as incoming or outgoing.\n",
    "* Reps are assigned to queues. When the reps are working, they take calls in the order of their queue.\n",
    "* A call that is dropped due to technical error or missed by the center because they have reached maximum capacity is a lost call.\n",
    "* An abandoned call is when the customer hangs up because they have been waiting for too long.\n",
    "* Busy Minutes: the amount of time after a call comes in or needs to go out where the assigned rep is not available because they are busy with other customers.\n",
    "* Not Ready Minutes: the amount of time after a call comes in or needs to go out where the assigned rep is not available because they are not ready (for example, getting water).\n",
    "* Incoming Wait Time - amount of time after assigned rep is available to take the call customer waits for representative to pick up a call. This is tracked in seconds.\n",
    "* During Call Wait Time - amount of time during call that customer has to wait for representative\n",
    "\n",
    "## Getting Started\n",
    "\n",
    "You have two CSVs at your disposal, `NorthCallCenter.csv` and `SouthCallCenter.csv`. Import the appropriate libraries and create two dataframes, one called `north_df` and one called `south_df`."
   ]
  },
  {
   "cell_type": "code",
   "execution_count": 1,
   "id": "f362436b",
   "metadata": {},
   "outputs": [],
   "source": [
    "# Import the appropriate libraries with aliases\n",
    "import numpy as np\n",
    "import pandas as pd\n",
    "from matplotlib import pyplot as plt\n",
    "import seaborn as sns\n",
    "\n",
    "# Create two new dataframes\n",
    "north_df = pd.read_csv('NorthCallCenter.csv')\n",
    "south_df = pd.read_csv('SouthCallCenter.csv')"
   ]
  },
  {
   "cell_type": "markdown",
   "id": "37f77cd4",
   "metadata": {},
   "source": [
    "<span style=\"background-color:orangered; color:orangered;\">- - - - - - - - - - - - - - - - - - - - - - - - - - - - - - - - - - - - - - - - - - - - - - - - - - - - - - - - - - - - - - - - - - - - - - - - - - - - - - - - - - - - - - - - -</span>"
   ]
  },
  {
   "cell_type": "markdown",
   "id": "b4d3484b",
   "metadata": {},
   "source": [
    "## Exploratory Data Analysis\n",
    "\n",
    "Time to do some EDA! In the process of learning more about the two datasets, answer the following questions. In the code blocks below enter the code used to solve the question.  At the end of the section record your answers by double clicking where asked."
   ]
  },
  {
   "cell_type": "markdown",
   "id": "76898991",
   "metadata": {},
   "source": [
    "#### EDA Question 1A:  How many reps are in the North branch?  "
   ]
  },
  {
   "cell_type": "code",
   "execution_count": 2,
   "id": "dc92e4f3",
   "metadata": {},
   "outputs": [
    {
     "data": {
      "text/plain": [
       "9"
      ]
     },
     "execution_count": 2,
     "metadata": {},
     "output_type": "execute_result"
    }
   ],
   "source": [
    "north_df['Rep ID'].nunique()"
   ]
  },
  {
   "cell_type": "markdown",
   "id": "2a9b34d8",
   "metadata": {},
   "source": [
    "#### EDA Question 1B:  How many reps are in the South branch?  "
   ]
  },
  {
   "cell_type": "code",
   "execution_count": 3,
   "id": "88ed1333",
   "metadata": {},
   "outputs": [
    {
     "data": {
      "text/plain": [
       "11"
      ]
     },
     "execution_count": 3,
     "metadata": {},
     "output_type": "execute_result"
    }
   ],
   "source": [
    "south_df['Rep ID'].nunique()"
   ]
  },
  {
   "cell_type": "markdown",
   "id": "a872f045",
   "metadata": {},
   "source": [
    "#### EDA Question 2A:  What is the average busy minutes, not ready minutes, incoming wait time, and during call wait time for the North branch? "
   ]
  },
  {
   "cell_type": "code",
   "execution_count": 4,
   "id": "3759305f",
   "metadata": {},
   "outputs": [
    {
     "name": "stdout",
     "output_type": "stream",
     "text": [
      "Busy Minutes             9.99\n",
      "Not Ready Minutes        1.91\n",
      "Incoming Wait Time       3.05\n",
      "During Call Wait Time    2.97\n",
      "dtype: float64\n"
     ]
    }
   ],
   "source": [
    "#Code Used:\n",
    "north_df_avg = north_df[[\"Busy Minutes\", \"Not Ready Minutes\", \"Incoming Wait Time\", \"During Call Wait Time\" ]].mean().round(2)\n",
    "print(north_df_avg)"
   ]
  },
  {
   "cell_type": "markdown",
   "id": "3851cf3e",
   "metadata": {},
   "source": [
    "#### EDA Question 2B:  What is the average busy minutes, not ready minutes, incoming wait time, and during call wait time for the South branch? "
   ]
  },
  {
   "cell_type": "code",
   "execution_count": 5,
   "id": "a77ec152",
   "metadata": {},
   "outputs": [
    {
     "name": "stdout",
     "output_type": "stream",
     "text": [
      "Busy Minutes             10.05\n",
      "Not Ready Minutes         1.91\n",
      "Incoming Wait Time        3.00\n",
      "During Call Wait Time     3.08\n",
      "dtype: float64\n"
     ]
    }
   ],
   "source": [
    "#Code Used:\n",
    "south_df_avg = south_df[[\"Busy Minutes\", \"Not Ready Minutes\", \"Incoming Wait Time\", \"During Call Wait Time\" ]].mean().round(2)\n",
    "print(south_df_avg)"
   ]
  },
  {
   "cell_type": "markdown",
   "id": "75915553",
   "metadata": {},
   "source": [
    "#### EDA Question 3:  What is the number of calls taken for each time block(Both North and South combined)?"
   ]
  },
  {
   "cell_type": "code",
   "execution_count": 6,
   "id": "49566936",
   "metadata": {
    "scrolled": true
   },
   "outputs": [
    {
     "data": {
      "text/plain": [
       "Time Block\n",
       "10:00 AM    43\n",
       "11:00 AM    25\n",
       "12:00 PM    45\n",
       "1:00 PM     17\n",
       "2:00 PM     35\n",
       "3:00 PM     30\n",
       "4:00 PM     28\n",
       "5:00 PM     17\n",
       "9:00 AM      5\n",
       "Name: Calls, dtype: int64"
      ]
     },
     "execution_count": 6,
     "metadata": {},
     "output_type": "execute_result"
    }
   ],
   "source": [
    "# Code Used:\n",
    "df1 = (north_df.groupby(['Time Block']).Calls.sum())\n",
    "df1"
   ]
  },
  {
   "cell_type": "code",
   "execution_count": 7,
   "id": "3c60eab5",
   "metadata": {},
   "outputs": [
    {
     "data": {
      "text/plain": [
       "Time Block\n",
       "10:00 AM    56\n",
       "11:00 AM    31\n",
       "12:00 PM    75\n",
       "1:00 PM     23\n",
       "2:00 PM     30\n",
       "3:00 PM     43\n",
       "4:00 PM     25\n",
       "5:00 PM     26\n",
       "9:00 AM      5\n",
       "Name: Calls, dtype: int64"
      ]
     },
     "execution_count": 7,
     "metadata": {},
     "output_type": "execute_result"
    }
   ],
   "source": [
    "df2 = (south_df.groupby(['Time Block']).Calls.sum())\n",
    "df2"
   ]
  },
  {
   "cell_type": "markdown",
   "id": "40b1fd3f",
   "metadata": {},
   "source": [
    "##### Record your answers for the EDA section by double clicking here:\n",
    "- 1a) Reps in the North Branch = 9\n",
    "- 1b) Reps in the South Branch = 11\n",
    "\n",
    "\n",
    "- 2a) North Branch, (round to the nearest hundredth):\n",
    "> - Busy Minutes = 9.99\n",
    "> - Not Ready Minutes = 1.91\n",
    "> - Incoming Wait Time = 3.05\n",
    "> - During Call Wait Time = 2.97\n",
    "- 2b) South Branch, (round to the nearest hundredth):\n",
    "> - Busy Minutes = 10.05\n",
    "> - Not Ready Minutes = 1.91\n",
    "> - Incoming Wait Time = 3.00\n",
    "> - During Call Wait Time = 3.08\n",
    "- 3) Total Calls taken for all branches per time block:\n",
    "> - 9:00AM   = 10\n",
    "> - 10:00AM  = 99\n",
    "> - 11:00AM  = 56\n",
    "> - 12:00PM  = 165\n",
    "> - 1:00PM   = 40\n",
    "> - 2:00PM   = 65\n",
    "> - 3:00PM   = 73\n",
    "> - 4:00PM   = 53\n",
    "> - 5:00PM   = 43\n",
    "\n"
   ]
  },
  {
   "cell_type": "markdown",
   "id": "446048d3",
   "metadata": {},
   "source": [
    "<span style=\"background-color:orangered; color:orangered;\">- - - - - - - - - - - - - - - - - - - - - - - - - - - - - - - - - - - - - - - - - - - - - - - - - - - - - - - - - - - - - - - - - - - - - - - - - - - - - - - - - - - - - - - - -</span>"
   ]
  },
  {
   "cell_type": "markdown",
   "id": "366bfb19",
   "metadata": {},
   "source": [
    "## Cleaning Your Data \n",
    "Now you need to clean up the datasets. When cleaning the datasets, you may find that there isn't dirty data to clean. That is okay! Some questions you need to answer about the data sets.\n",
    "* Add additional code blocks as needed to show how you came to your conclusions. Add comments in your code blocks to help others understand your thinking. "
   ]
  },
  {
   "cell_type": "markdown",
   "id": "c3564d69",
   "metadata": {},
   "source": [
    "#### Cleaning Question 1:  Is there any missing data and if yes explain what you would do with the missing data and why?\n",
    "##### Record your answer by double clicking here:\n",
    "> There is missing data in the incoming wait time of 163 values in the North Call center and 188 values in the South Call center. As there is more than 60% data missing in incoming wait time, in bothe centers, I would like to delete this column. Also as Incoming wait time occurs after the call is accepted, it should not make a big differnce for this analysis."
   ]
  },
  {
   "cell_type": "code",
   "execution_count": 8,
   "id": "b77fb574",
   "metadata": {},
   "outputs": [
    {
     "name": "stdout",
     "output_type": "stream",
     "text": [
      "<class 'pandas.core.frame.DataFrame'>\n",
      "RangeIndex: 245 entries, 0 to 244\n",
      "Data columns (total 15 columns):\n",
      " #   Column                 Non-Null Count  Dtype  \n",
      "---  ------                 --------------  -----  \n",
      " 0   Unnamed: 0             245 non-null    int64  \n",
      " 1   Branch                 245 non-null    object \n",
      " 2   Call Purpose           245 non-null    object \n",
      " 3   Time Block             245 non-null    object \n",
      " 4   Incoming or Outgoing   245 non-null    object \n",
      " 5   Queue                  245 non-null    object \n",
      " 6   Rep ID                 245 non-null    object \n",
      " 7   Sale                   245 non-null    object \n",
      " 8   Lost Call              245 non-null    int64  \n",
      " 9   Abandoned              245 non-null    int64  \n",
      " 10  Busy Minutes           245 non-null    int64  \n",
      " 11  Not Ready Minutes      245 non-null    int64  \n",
      " 12  Incoming Wait Time     82 non-null     float64\n",
      " 13  During Call Wait Time  245 non-null    int64  \n",
      " 14  Calls                  245 non-null    int64  \n",
      "dtypes: float64(1), int64(7), object(7)\n",
      "memory usage: 28.8+ KB\n"
     ]
    }
   ],
   "source": [
    "north_df.info()\n",
    "# Check to see if there is any null data in all the columns in the North Call Center. Incoming wait time has missing values."
   ]
  },
  {
   "cell_type": "code",
   "execution_count": 9,
   "id": "0dea350f",
   "metadata": {
    "scrolled": true
   },
   "outputs": [
    {
     "name": "stdout",
     "output_type": "stream",
     "text": [
      "<class 'pandas.core.frame.DataFrame'>\n",
      "RangeIndex: 314 entries, 0 to 313\n",
      "Data columns (total 15 columns):\n",
      " #   Column                 Non-Null Count  Dtype  \n",
      "---  ------                 --------------  -----  \n",
      " 0   Unnamed: 0             314 non-null    int64  \n",
      " 1   Branch                 314 non-null    object \n",
      " 2   Call Purpose           314 non-null    object \n",
      " 3   Time Block             314 non-null    object \n",
      " 4   Incoming or Outgoing   314 non-null    object \n",
      " 5   Queue                  314 non-null    object \n",
      " 6   Rep ID                 314 non-null    object \n",
      " 7   Sale                   314 non-null    object \n",
      " 8   Lost Call              314 non-null    int64  \n",
      " 9   Abandoned              314 non-null    int64  \n",
      " 10  Busy Minutes           314 non-null    int64  \n",
      " 11  Not Ready Minutes      314 non-null    int64  \n",
      " 12  Incoming Wait Time     126 non-null    float64\n",
      " 13  During Call Wait Time  314 non-null    int64  \n",
      " 14  Calls                  314 non-null    int64  \n",
      "dtypes: float64(1), int64(7), object(7)\n",
      "memory usage: 36.9+ KB\n"
     ]
    }
   ],
   "source": [
    "south_df.info()\n",
    "#Check to see for null counts(missing data) at the South Call center.Incoming wait time has missing values."
   ]
  },
  {
   "cell_type": "code",
   "execution_count": 10,
   "id": "6acdbd43",
   "metadata": {},
   "outputs": [
    {
     "data": {
      "text/plain": [
       "Unnamed: 0                 0\n",
       "Branch                     0\n",
       "Call Purpose               0\n",
       "Time Block                 0\n",
       "Incoming or Outgoing       0\n",
       "Queue                      0\n",
       "Rep ID                     0\n",
       "Sale                       0\n",
       "Lost Call                  0\n",
       "Abandoned                  0\n",
       "Busy Minutes               0\n",
       "Not Ready Minutes          0\n",
       "Incoming Wait Time       163\n",
       "During Call Wait Time      0\n",
       "Calls                      0\n",
       "dtype: int64"
      ]
     },
     "execution_count": 10,
     "metadata": {},
     "output_type": "execute_result"
    }
   ],
   "source": [
    "north_df.isnull().sum()\n",
    "# Using code to check the count of missing values at the North Call Center."
   ]
  },
  {
   "cell_type": "code",
   "execution_count": 11,
   "id": "d5c3cda3",
   "metadata": {},
   "outputs": [
    {
     "data": {
      "text/plain": [
       "Unnamed: 0                 0\n",
       "Branch                     0\n",
       "Call Purpose               0\n",
       "Time Block                 0\n",
       "Incoming or Outgoing       0\n",
       "Queue                      0\n",
       "Rep ID                     0\n",
       "Sale                       0\n",
       "Lost Call                  0\n",
       "Abandoned                  0\n",
       "Busy Minutes               0\n",
       "Not Ready Minutes          0\n",
       "Incoming Wait Time       188\n",
       "During Call Wait Time      0\n",
       "Calls                      0\n",
       "dtype: int64"
      ]
     },
     "execution_count": 11,
     "metadata": {},
     "output_type": "execute_result"
    }
   ],
   "source": [
    "south_df.isnull().sum()\n",
    "# Using code to check the total count of missing values in South_df."
   ]
  },
  {
   "cell_type": "code",
   "execution_count": 12,
   "id": "e32d13ab",
   "metadata": {},
   "outputs": [
    {
     "name": "stdout",
     "output_type": "stream",
     "text": [
      "Unnamed: 0 - 0%\n",
      "Branch - 0%\n",
      "Call Purpose - 0%\n",
      "Time Block - 0%\n",
      "Incoming or Outgoing - 0%\n",
      "Queue - 0%\n",
      "Rep ID - 0%\n",
      "Sale - 0%\n",
      "Lost Call - 0%\n",
      "Abandoned - 0%\n",
      "Busy Minutes - 0%\n",
      "Not Ready Minutes - 0%\n",
      "Incoming Wait Time - 67%\n",
      "During Call Wait Time - 0%\n",
      "Calls - 0%\n"
     ]
    }
   ],
   "source": [
    "# Checking percentage of missing data in north_df\n",
    "for col in north_df.columns:\n",
    "    pct_missing = np.mean(north_df[col].isnull())\n",
    "    print('{} - {}%'.format(col, round(pct_missing*100)))"
   ]
  },
  {
   "cell_type": "code",
   "execution_count": 13,
   "id": "73e80f23",
   "metadata": {},
   "outputs": [
    {
     "name": "stdout",
     "output_type": "stream",
     "text": [
      "Unnamed: 0 - 0%\n",
      "Branch - 0%\n",
      "Call Purpose - 0%\n",
      "Time Block - 0%\n",
      "Incoming or Outgoing - 0%\n",
      "Queue - 0%\n",
      "Rep ID - 0%\n",
      "Sale - 0%\n",
      "Lost Call - 0%\n",
      "Abandoned - 0%\n",
      "Busy Minutes - 0%\n",
      "Not Ready Minutes - 0%\n",
      "Incoming Wait Time - 60%\n",
      "During Call Wait Time - 0%\n",
      "Calls - 0%\n"
     ]
    }
   ],
   "source": [
    "#checking percentage of missing data in south_df\n",
    "for col in south_df.columns:\n",
    "    pct_missing = np.mean(south_df[col].isnull())\n",
    "    print('{} - {}%'.format(col, round(pct_missing*100)))"
   ]
  },
  {
   "cell_type": "code",
   "execution_count": 14,
   "id": "d19467f9",
   "metadata": {},
   "outputs": [
    {
     "data": {
      "text/html": [
       "<div>\n",
       "<style scoped>\n",
       "    .dataframe tbody tr th:only-of-type {\n",
       "        vertical-align: middle;\n",
       "    }\n",
       "\n",
       "    .dataframe tbody tr th {\n",
       "        vertical-align: top;\n",
       "    }\n",
       "\n",
       "    .dataframe thead th {\n",
       "        text-align: right;\n",
       "    }\n",
       "</style>\n",
       "<table border=\"1\" class=\"dataframe\">\n",
       "  <thead>\n",
       "    <tr style=\"text-align: right;\">\n",
       "      <th></th>\n",
       "      <th>Unnamed: 0</th>\n",
       "      <th>Branch</th>\n",
       "      <th>Call Purpose</th>\n",
       "      <th>Time Block</th>\n",
       "      <th>Incoming or Outgoing</th>\n",
       "      <th>Queue</th>\n",
       "      <th>Rep ID</th>\n",
       "      <th>Sale</th>\n",
       "      <th>Lost Call</th>\n",
       "      <th>Abandoned</th>\n",
       "      <th>Busy Minutes</th>\n",
       "      <th>Not Ready Minutes</th>\n",
       "      <th>During Call Wait Time</th>\n",
       "      <th>Calls</th>\n",
       "    </tr>\n",
       "  </thead>\n",
       "  <tbody>\n",
       "    <tr>\n",
       "      <th>0</th>\n",
       "      <td>0</td>\n",
       "      <td>North</td>\n",
       "      <td>Complaint</td>\n",
       "      <td>9:00 AM</td>\n",
       "      <td>Incoming</td>\n",
       "      <td>B</td>\n",
       "      <td>Brent</td>\n",
       "      <td>NO</td>\n",
       "      <td>0</td>\n",
       "      <td>1</td>\n",
       "      <td>9</td>\n",
       "      <td>2</td>\n",
       "      <td>4</td>\n",
       "      <td>1</td>\n",
       "    </tr>\n",
       "    <tr>\n",
       "      <th>1</th>\n",
       "      <td>1</td>\n",
       "      <td>North</td>\n",
       "      <td>Sales Support</td>\n",
       "      <td>11:00 AM</td>\n",
       "      <td>Incoming</td>\n",
       "      <td>A</td>\n",
       "      <td>Cam</td>\n",
       "      <td>NO</td>\n",
       "      <td>0</td>\n",
       "      <td>0</td>\n",
       "      <td>11</td>\n",
       "      <td>1</td>\n",
       "      <td>3</td>\n",
       "      <td>1</td>\n",
       "    </tr>\n",
       "    <tr>\n",
       "      <th>2</th>\n",
       "      <td>2</td>\n",
       "      <td>North</td>\n",
       "      <td>Sales Support</td>\n",
       "      <td>11:00 AM</td>\n",
       "      <td>Incoming</td>\n",
       "      <td>B</td>\n",
       "      <td>Todd</td>\n",
       "      <td>NO</td>\n",
       "      <td>0</td>\n",
       "      <td>0</td>\n",
       "      <td>9</td>\n",
       "      <td>3</td>\n",
       "      <td>3</td>\n",
       "      <td>1</td>\n",
       "    </tr>\n",
       "    <tr>\n",
       "      <th>3</th>\n",
       "      <td>3</td>\n",
       "      <td>North</td>\n",
       "      <td>Sales Support</td>\n",
       "      <td>4:00 PM</td>\n",
       "      <td>Incoming</td>\n",
       "      <td>B</td>\n",
       "      <td>Brent</td>\n",
       "      <td>NO</td>\n",
       "      <td>0</td>\n",
       "      <td>0</td>\n",
       "      <td>11</td>\n",
       "      <td>2</td>\n",
       "      <td>4</td>\n",
       "      <td>1</td>\n",
       "    </tr>\n",
       "    <tr>\n",
       "      <th>4</th>\n",
       "      <td>4</td>\n",
       "      <td>North</td>\n",
       "      <td>Product Support</td>\n",
       "      <td>12:00 PM</td>\n",
       "      <td>Incoming</td>\n",
       "      <td>B</td>\n",
       "      <td>Brent</td>\n",
       "      <td>NO</td>\n",
       "      <td>0</td>\n",
       "      <td>0</td>\n",
       "      <td>8</td>\n",
       "      <td>2</td>\n",
       "      <td>4</td>\n",
       "      <td>1</td>\n",
       "    </tr>\n",
       "    <tr>\n",
       "      <th>...</th>\n",
       "      <td>...</td>\n",
       "      <td>...</td>\n",
       "      <td>...</td>\n",
       "      <td>...</td>\n",
       "      <td>...</td>\n",
       "      <td>...</td>\n",
       "      <td>...</td>\n",
       "      <td>...</td>\n",
       "      <td>...</td>\n",
       "      <td>...</td>\n",
       "      <td>...</td>\n",
       "      <td>...</td>\n",
       "      <td>...</td>\n",
       "      <td>...</td>\n",
       "    </tr>\n",
       "    <tr>\n",
       "      <th>240</th>\n",
       "      <td>240</td>\n",
       "      <td>North</td>\n",
       "      <td>Product Support</td>\n",
       "      <td>5:00 PM</td>\n",
       "      <td>Outgoing</td>\n",
       "      <td>B</td>\n",
       "      <td>Brent</td>\n",
       "      <td>NO</td>\n",
       "      <td>0</td>\n",
       "      <td>0</td>\n",
       "      <td>10</td>\n",
       "      <td>2</td>\n",
       "      <td>3</td>\n",
       "      <td>1</td>\n",
       "    </tr>\n",
       "    <tr>\n",
       "      <th>241</th>\n",
       "      <td>241</td>\n",
       "      <td>North</td>\n",
       "      <td>Product Support</td>\n",
       "      <td>5:00 PM</td>\n",
       "      <td>Outgoing</td>\n",
       "      <td>A</td>\n",
       "      <td>Joe</td>\n",
       "      <td>NO</td>\n",
       "      <td>0</td>\n",
       "      <td>0</td>\n",
       "      <td>8</td>\n",
       "      <td>3</td>\n",
       "      <td>2</td>\n",
       "      <td>1</td>\n",
       "    </tr>\n",
       "    <tr>\n",
       "      <th>242</th>\n",
       "      <td>242</td>\n",
       "      <td>North</td>\n",
       "      <td>Product Support</td>\n",
       "      <td>5:00 PM</td>\n",
       "      <td>Outgoing</td>\n",
       "      <td>A</td>\n",
       "      <td>Amanda</td>\n",
       "      <td>NO</td>\n",
       "      <td>0</td>\n",
       "      <td>0</td>\n",
       "      <td>12</td>\n",
       "      <td>1</td>\n",
       "      <td>2</td>\n",
       "      <td>1</td>\n",
       "    </tr>\n",
       "    <tr>\n",
       "      <th>243</th>\n",
       "      <td>243</td>\n",
       "      <td>North</td>\n",
       "      <td>Product Support</td>\n",
       "      <td>5:00 PM</td>\n",
       "      <td>Outgoing</td>\n",
       "      <td>A</td>\n",
       "      <td>Cam</td>\n",
       "      <td>NO</td>\n",
       "      <td>0</td>\n",
       "      <td>0</td>\n",
       "      <td>11</td>\n",
       "      <td>2</td>\n",
       "      <td>2</td>\n",
       "      <td>1</td>\n",
       "    </tr>\n",
       "    <tr>\n",
       "      <th>244</th>\n",
       "      <td>244</td>\n",
       "      <td>North</td>\n",
       "      <td>Product Support</td>\n",
       "      <td>5:00 PM</td>\n",
       "      <td>Outgoing</td>\n",
       "      <td>B</td>\n",
       "      <td>Xander</td>\n",
       "      <td>NO</td>\n",
       "      <td>0</td>\n",
       "      <td>0</td>\n",
       "      <td>8</td>\n",
       "      <td>1</td>\n",
       "      <td>4</td>\n",
       "      <td>1</td>\n",
       "    </tr>\n",
       "  </tbody>\n",
       "</table>\n",
       "<p>245 rows × 14 columns</p>\n",
       "</div>"
      ],
      "text/plain": [
       "     Unnamed: 0 Branch     Call Purpose Time Block Incoming or Outgoing Queue  \\\n",
       "0             0  North        Complaint    9:00 AM             Incoming     B   \n",
       "1             1  North    Sales Support   11:00 AM             Incoming     A   \n",
       "2             2  North    Sales Support   11:00 AM             Incoming     B   \n",
       "3             3  North    Sales Support    4:00 PM             Incoming     B   \n",
       "4             4  North  Product Support   12:00 PM             Incoming     B   \n",
       "..          ...    ...              ...        ...                  ...   ...   \n",
       "240         240  North  Product Support    5:00 PM             Outgoing     B   \n",
       "241         241  North  Product Support    5:00 PM             Outgoing     A   \n",
       "242         242  North  Product Support    5:00 PM             Outgoing     A   \n",
       "243         243  North  Product Support    5:00 PM             Outgoing     A   \n",
       "244         244  North  Product Support    5:00 PM             Outgoing     B   \n",
       "\n",
       "     Rep ID Sale  Lost Call  Abandoned  Busy Minutes  Not Ready Minutes  \\\n",
       "0     Brent   NO          0          1             9                  2   \n",
       "1       Cam   NO          0          0            11                  1   \n",
       "2      Todd   NO          0          0             9                  3   \n",
       "3     Brent   NO          0          0            11                  2   \n",
       "4     Brent   NO          0          0             8                  2   \n",
       "..      ...  ...        ...        ...           ...                ...   \n",
       "240   Brent   NO          0          0            10                  2   \n",
       "241     Joe   NO          0          0             8                  3   \n",
       "242  Amanda   NO          0          0            12                  1   \n",
       "243     Cam   NO          0          0            11                  2   \n",
       "244  Xander   NO          0          0             8                  1   \n",
       "\n",
       "     During Call Wait Time  Calls  \n",
       "0                        4      1  \n",
       "1                        3      1  \n",
       "2                        3      1  \n",
       "3                        4      1  \n",
       "4                        4      1  \n",
       "..                     ...    ...  \n",
       "240                      3      1  \n",
       "241                      2      1  \n",
       "242                      2      1  \n",
       "243                      2      1  \n",
       "244                      4      1  \n",
       "\n",
       "[245 rows x 14 columns]"
      ]
     },
     "execution_count": 14,
     "metadata": {},
     "output_type": "execute_result"
    }
   ],
   "source": [
    "# Dropping column'Incoming wait time\n",
    "north_df.drop('Incoming Wait Time', axis = 1)"
   ]
  },
  {
   "cell_type": "code",
   "execution_count": 15,
   "id": "a889624b",
   "metadata": {},
   "outputs": [
    {
     "data": {
      "text/html": [
       "<div>\n",
       "<style scoped>\n",
       "    .dataframe tbody tr th:only-of-type {\n",
       "        vertical-align: middle;\n",
       "    }\n",
       "\n",
       "    .dataframe tbody tr th {\n",
       "        vertical-align: top;\n",
       "    }\n",
       "\n",
       "    .dataframe thead th {\n",
       "        text-align: right;\n",
       "    }\n",
       "</style>\n",
       "<table border=\"1\" class=\"dataframe\">\n",
       "  <thead>\n",
       "    <tr style=\"text-align: right;\">\n",
       "      <th></th>\n",
       "      <th>Unnamed: 0</th>\n",
       "      <th>Branch</th>\n",
       "      <th>Call Purpose</th>\n",
       "      <th>Time Block</th>\n",
       "      <th>Incoming or Outgoing</th>\n",
       "      <th>Queue</th>\n",
       "      <th>Rep ID</th>\n",
       "      <th>Sale</th>\n",
       "      <th>Lost Call</th>\n",
       "      <th>Abandoned</th>\n",
       "      <th>Busy Minutes</th>\n",
       "      <th>Not Ready Minutes</th>\n",
       "      <th>During Call Wait Time</th>\n",
       "      <th>Calls</th>\n",
       "    </tr>\n",
       "  </thead>\n",
       "  <tbody>\n",
       "    <tr>\n",
       "      <th>0</th>\n",
       "      <td>0</td>\n",
       "      <td>South</td>\n",
       "      <td>Sales Support</td>\n",
       "      <td>10:00 AM</td>\n",
       "      <td>Incoming</td>\n",
       "      <td>D</td>\n",
       "      <td>Kate</td>\n",
       "      <td>NO</td>\n",
       "      <td>0</td>\n",
       "      <td>0</td>\n",
       "      <td>9</td>\n",
       "      <td>1</td>\n",
       "      <td>2</td>\n",
       "      <td>1</td>\n",
       "    </tr>\n",
       "    <tr>\n",
       "      <th>1</th>\n",
       "      <td>1</td>\n",
       "      <td>South</td>\n",
       "      <td>Sales Support</td>\n",
       "      <td>10:00 AM</td>\n",
       "      <td>Incoming</td>\n",
       "      <td>C</td>\n",
       "      <td>Eric</td>\n",
       "      <td>NO</td>\n",
       "      <td>0</td>\n",
       "      <td>0</td>\n",
       "      <td>8</td>\n",
       "      <td>2</td>\n",
       "      <td>4</td>\n",
       "      <td>1</td>\n",
       "    </tr>\n",
       "    <tr>\n",
       "      <th>2</th>\n",
       "      <td>2</td>\n",
       "      <td>South</td>\n",
       "      <td>Sales Support</td>\n",
       "      <td>10:00 AM</td>\n",
       "      <td>Incoming</td>\n",
       "      <td>C</td>\n",
       "      <td>Susan</td>\n",
       "      <td>NO</td>\n",
       "      <td>0</td>\n",
       "      <td>0</td>\n",
       "      <td>10</td>\n",
       "      <td>2</td>\n",
       "      <td>4</td>\n",
       "      <td>1</td>\n",
       "    </tr>\n",
       "    <tr>\n",
       "      <th>3</th>\n",
       "      <td>3</td>\n",
       "      <td>South</td>\n",
       "      <td>Sales Support</td>\n",
       "      <td>10:00 AM</td>\n",
       "      <td>Incoming</td>\n",
       "      <td>C</td>\n",
       "      <td>Alice</td>\n",
       "      <td>NO</td>\n",
       "      <td>0</td>\n",
       "      <td>0</td>\n",
       "      <td>12</td>\n",
       "      <td>1</td>\n",
       "      <td>3</td>\n",
       "      <td>1</td>\n",
       "    </tr>\n",
       "    <tr>\n",
       "      <th>4</th>\n",
       "      <td>4</td>\n",
       "      <td>South</td>\n",
       "      <td>Sales Support</td>\n",
       "      <td>12:00 PM</td>\n",
       "      <td>Incoming</td>\n",
       "      <td>C</td>\n",
       "      <td>Sandy</td>\n",
       "      <td>NO</td>\n",
       "      <td>0</td>\n",
       "      <td>0</td>\n",
       "      <td>8</td>\n",
       "      <td>3</td>\n",
       "      <td>3</td>\n",
       "      <td>1</td>\n",
       "    </tr>\n",
       "    <tr>\n",
       "      <th>...</th>\n",
       "      <td>...</td>\n",
       "      <td>...</td>\n",
       "      <td>...</td>\n",
       "      <td>...</td>\n",
       "      <td>...</td>\n",
       "      <td>...</td>\n",
       "      <td>...</td>\n",
       "      <td>...</td>\n",
       "      <td>...</td>\n",
       "      <td>...</td>\n",
       "      <td>...</td>\n",
       "      <td>...</td>\n",
       "      <td>...</td>\n",
       "      <td>...</td>\n",
       "    </tr>\n",
       "    <tr>\n",
       "      <th>309</th>\n",
       "      <td>309</td>\n",
       "      <td>South</td>\n",
       "      <td>Product Support</td>\n",
       "      <td>5:00 PM</td>\n",
       "      <td>Outgoing</td>\n",
       "      <td>D</td>\n",
       "      <td>Helga</td>\n",
       "      <td>NO</td>\n",
       "      <td>0</td>\n",
       "      <td>0</td>\n",
       "      <td>10</td>\n",
       "      <td>3</td>\n",
       "      <td>4</td>\n",
       "      <td>1</td>\n",
       "    </tr>\n",
       "    <tr>\n",
       "      <th>310</th>\n",
       "      <td>310</td>\n",
       "      <td>South</td>\n",
       "      <td>Product Support</td>\n",
       "      <td>5:00 PM</td>\n",
       "      <td>Outgoing</td>\n",
       "      <td>C</td>\n",
       "      <td>Susan</td>\n",
       "      <td>NO</td>\n",
       "      <td>0</td>\n",
       "      <td>0</td>\n",
       "      <td>12</td>\n",
       "      <td>3</td>\n",
       "      <td>4</td>\n",
       "      <td>1</td>\n",
       "    </tr>\n",
       "    <tr>\n",
       "      <th>311</th>\n",
       "      <td>311</td>\n",
       "      <td>South</td>\n",
       "      <td>Product Support</td>\n",
       "      <td>5:00 PM</td>\n",
       "      <td>Outgoing</td>\n",
       "      <td>C</td>\n",
       "      <td>Sandy</td>\n",
       "      <td>NO</td>\n",
       "      <td>0</td>\n",
       "      <td>0</td>\n",
       "      <td>9</td>\n",
       "      <td>3</td>\n",
       "      <td>4</td>\n",
       "      <td>1</td>\n",
       "    </tr>\n",
       "    <tr>\n",
       "      <th>312</th>\n",
       "      <td>312</td>\n",
       "      <td>South</td>\n",
       "      <td>Product Support</td>\n",
       "      <td>5:00 PM</td>\n",
       "      <td>Outgoing</td>\n",
       "      <td>C</td>\n",
       "      <td>Eric</td>\n",
       "      <td>NO</td>\n",
       "      <td>0</td>\n",
       "      <td>0</td>\n",
       "      <td>10</td>\n",
       "      <td>1</td>\n",
       "      <td>2</td>\n",
       "      <td>1</td>\n",
       "    </tr>\n",
       "    <tr>\n",
       "      <th>313</th>\n",
       "      <td>313</td>\n",
       "      <td>South</td>\n",
       "      <td>Product Support</td>\n",
       "      <td>5:00 PM</td>\n",
       "      <td>Outgoing</td>\n",
       "      <td>D</td>\n",
       "      <td>George</td>\n",
       "      <td>NO</td>\n",
       "      <td>0</td>\n",
       "      <td>0</td>\n",
       "      <td>10</td>\n",
       "      <td>2</td>\n",
       "      <td>3</td>\n",
       "      <td>1</td>\n",
       "    </tr>\n",
       "  </tbody>\n",
       "</table>\n",
       "<p>314 rows × 14 columns</p>\n",
       "</div>"
      ],
      "text/plain": [
       "     Unnamed: 0 Branch     Call Purpose Time Block Incoming or Outgoing Queue  \\\n",
       "0             0  South    Sales Support   10:00 AM             Incoming     D   \n",
       "1             1  South    Sales Support   10:00 AM             Incoming     C   \n",
       "2             2  South    Sales Support   10:00 AM             Incoming     C   \n",
       "3             3  South    Sales Support   10:00 AM             Incoming     C   \n",
       "4             4  South    Sales Support   12:00 PM             Incoming     C   \n",
       "..          ...    ...              ...        ...                  ...   ...   \n",
       "309         309  South  Product Support    5:00 PM             Outgoing     D   \n",
       "310         310  South  Product Support    5:00 PM             Outgoing     C   \n",
       "311         311  South  Product Support    5:00 PM             Outgoing     C   \n",
       "312         312  South  Product Support    5:00 PM             Outgoing     C   \n",
       "313         313  South  Product Support    5:00 PM             Outgoing     D   \n",
       "\n",
       "     Rep ID Sale  Lost Call  Abandoned  Busy Minutes  Not Ready Minutes  \\\n",
       "0      Kate   NO          0          0             9                  1   \n",
       "1      Eric   NO          0          0             8                  2   \n",
       "2     Susan   NO          0          0            10                  2   \n",
       "3     Alice   NO          0          0            12                  1   \n",
       "4     Sandy   NO          0          0             8                  3   \n",
       "..      ...  ...        ...        ...           ...                ...   \n",
       "309   Helga   NO          0          0            10                  3   \n",
       "310   Susan   NO          0          0            12                  3   \n",
       "311   Sandy   NO          0          0             9                  3   \n",
       "312    Eric   NO          0          0            10                  1   \n",
       "313  George   NO          0          0            10                  2   \n",
       "\n",
       "     During Call Wait Time  Calls  \n",
       "0                        2      1  \n",
       "1                        4      1  \n",
       "2                        4      1  \n",
       "3                        3      1  \n",
       "4                        3      1  \n",
       "..                     ...    ...  \n",
       "309                      4      1  \n",
       "310                      4      1  \n",
       "311                      4      1  \n",
       "312                      2      1  \n",
       "313                      3      1  \n",
       "\n",
       "[314 rows x 14 columns]"
      ]
     },
     "execution_count": 15,
     "metadata": {},
     "output_type": "execute_result"
    }
   ],
   "source": [
    "#\n",
    "south_df.drop('Incoming Wait Time', axis = 1)"
   ]
  },
  {
   "cell_type": "code",
   "execution_count": 16,
   "id": "c0407115",
   "metadata": {},
   "outputs": [],
   "source": [
    "#### Cleaning Question 2:  In the North data set, there are two separate \"YES\" values for a sale. Why and how did you rectify the issue?\n",
    "##### Record your answer by double clicking here"
   ]
  },
  {
   "cell_type": "code",
   "execution_count": 17,
   "id": "ef26be31",
   "metadata": {},
   "outputs": [
    {
     "data": {
      "text/html": [
       "<div>\n",
       "<style scoped>\n",
       "    .dataframe tbody tr th:only-of-type {\n",
       "        vertical-align: middle;\n",
       "    }\n",
       "\n",
       "    .dataframe tbody tr th {\n",
       "        vertical-align: top;\n",
       "    }\n",
       "\n",
       "    .dataframe thead th {\n",
       "        text-align: right;\n",
       "    }\n",
       "</style>\n",
       "<table border=\"1\" class=\"dataframe\">\n",
       "  <thead>\n",
       "    <tr style=\"text-align: right;\">\n",
       "      <th></th>\n",
       "      <th>Unnamed: 0</th>\n",
       "      <th>Branch</th>\n",
       "      <th>Call Purpose</th>\n",
       "      <th>Time Block</th>\n",
       "      <th>Incoming or Outgoing</th>\n",
       "      <th>Queue</th>\n",
       "      <th>Rep ID</th>\n",
       "      <th>Sale</th>\n",
       "      <th>Lost Call</th>\n",
       "      <th>Abandoned</th>\n",
       "      <th>Busy Minutes</th>\n",
       "      <th>Not Ready Minutes</th>\n",
       "      <th>Incoming Wait Time</th>\n",
       "      <th>During Call Wait Time</th>\n",
       "      <th>Calls</th>\n",
       "    </tr>\n",
       "  </thead>\n",
       "  <tbody>\n",
       "    <tr>\n",
       "      <th>19</th>\n",
       "      <td>19</td>\n",
       "      <td>North</td>\n",
       "      <td>Sales Support</td>\n",
       "      <td>10:00 AM</td>\n",
       "      <td>Incoming</td>\n",
       "      <td>B</td>\n",
       "      <td>Lilly</td>\n",
       "      <td>YES</td>\n",
       "      <td>0</td>\n",
       "      <td>0</td>\n",
       "      <td>11</td>\n",
       "      <td>2</td>\n",
       "      <td>2.0</td>\n",
       "      <td>4</td>\n",
       "      <td>1</td>\n",
       "    </tr>\n",
       "    <tr>\n",
       "      <th>40</th>\n",
       "      <td>40</td>\n",
       "      <td>North</td>\n",
       "      <td>Sales Support</td>\n",
       "      <td>12:00 PM</td>\n",
       "      <td>Incoming</td>\n",
       "      <td>B</td>\n",
       "      <td>Lilly</td>\n",
       "      <td>YES</td>\n",
       "      <td>0</td>\n",
       "      <td>0</td>\n",
       "      <td>10</td>\n",
       "      <td>1</td>\n",
       "      <td>3.0</td>\n",
       "      <td>2</td>\n",
       "      <td>1</td>\n",
       "    </tr>\n",
       "    <tr>\n",
       "      <th>47</th>\n",
       "      <td>47</td>\n",
       "      <td>North</td>\n",
       "      <td>Sales Support</td>\n",
       "      <td>10:00 AM</td>\n",
       "      <td>Incoming</td>\n",
       "      <td>A</td>\n",
       "      <td>Amanda</td>\n",
       "      <td>YES</td>\n",
       "      <td>0</td>\n",
       "      <td>0</td>\n",
       "      <td>10</td>\n",
       "      <td>3</td>\n",
       "      <td>4.0</td>\n",
       "      <td>3</td>\n",
       "      <td>1</td>\n",
       "    </tr>\n",
       "    <tr>\n",
       "      <th>67</th>\n",
       "      <td>67</td>\n",
       "      <td>North</td>\n",
       "      <td>Sales Support</td>\n",
       "      <td>12:00 PM</td>\n",
       "      <td>Incoming</td>\n",
       "      <td>B</td>\n",
       "      <td>Todd</td>\n",
       "      <td>YES</td>\n",
       "      <td>0</td>\n",
       "      <td>0</td>\n",
       "      <td>9</td>\n",
       "      <td>3</td>\n",
       "      <td>5.0</td>\n",
       "      <td>4</td>\n",
       "      <td>1</td>\n",
       "    </tr>\n",
       "    <tr>\n",
       "      <th>69</th>\n",
       "      <td>69</td>\n",
       "      <td>North</td>\n",
       "      <td>Sales Support</td>\n",
       "      <td>12:00 PM</td>\n",
       "      <td>Incoming</td>\n",
       "      <td>A</td>\n",
       "      <td>Andy</td>\n",
       "      <td>YES</td>\n",
       "      <td>0</td>\n",
       "      <td>0</td>\n",
       "      <td>10</td>\n",
       "      <td>1</td>\n",
       "      <td>5.0</td>\n",
       "      <td>2</td>\n",
       "      <td>1</td>\n",
       "    </tr>\n",
       "    <tr>\n",
       "      <th>86</th>\n",
       "      <td>86</td>\n",
       "      <td>North</td>\n",
       "      <td>Sales Support</td>\n",
       "      <td>10:00 AM</td>\n",
       "      <td>Outgoing</td>\n",
       "      <td>B</td>\n",
       "      <td>Lilly</td>\n",
       "      <td>YES</td>\n",
       "      <td>0</td>\n",
       "      <td>1</td>\n",
       "      <td>9</td>\n",
       "      <td>3</td>\n",
       "      <td>NaN</td>\n",
       "      <td>4</td>\n",
       "      <td>1</td>\n",
       "    </tr>\n",
       "    <tr>\n",
       "      <th>87</th>\n",
       "      <td>87</td>\n",
       "      <td>North</td>\n",
       "      <td>Sales Support</td>\n",
       "      <td>10:00 AM</td>\n",
       "      <td>Outgoing</td>\n",
       "      <td>B</td>\n",
       "      <td>Lilly</td>\n",
       "      <td>YES</td>\n",
       "      <td>0</td>\n",
       "      <td>1</td>\n",
       "      <td>12</td>\n",
       "      <td>1</td>\n",
       "      <td>NaN</td>\n",
       "      <td>4</td>\n",
       "      <td>1</td>\n",
       "    </tr>\n",
       "    <tr>\n",
       "      <th>99</th>\n",
       "      <td>99</td>\n",
       "      <td>North</td>\n",
       "      <td>Sales Support</td>\n",
       "      <td>10:00 AM</td>\n",
       "      <td>Outgoing</td>\n",
       "      <td>A</td>\n",
       "      <td>Andy</td>\n",
       "      <td>YES</td>\n",
       "      <td>0</td>\n",
       "      <td>0</td>\n",
       "      <td>12</td>\n",
       "      <td>2</td>\n",
       "      <td>NaN</td>\n",
       "      <td>2</td>\n",
       "      <td>1</td>\n",
       "    </tr>\n",
       "    <tr>\n",
       "      <th>108</th>\n",
       "      <td>108</td>\n",
       "      <td>North</td>\n",
       "      <td>Sales Support</td>\n",
       "      <td>11:00 AM</td>\n",
       "      <td>Outgoing</td>\n",
       "      <td>B</td>\n",
       "      <td>Lilly</td>\n",
       "      <td>YES</td>\n",
       "      <td>0</td>\n",
       "      <td>0</td>\n",
       "      <td>8</td>\n",
       "      <td>3</td>\n",
       "      <td>NaN</td>\n",
       "      <td>2</td>\n",
       "      <td>1</td>\n",
       "    </tr>\n",
       "    <tr>\n",
       "      <th>220</th>\n",
       "      <td>220</td>\n",
       "      <td>North</td>\n",
       "      <td>Product Support</td>\n",
       "      <td>4:00 PM</td>\n",
       "      <td>Outgoing</td>\n",
       "      <td>A</td>\n",
       "      <td>Cam</td>\n",
       "      <td>YES</td>\n",
       "      <td>0</td>\n",
       "      <td>0</td>\n",
       "      <td>8</td>\n",
       "      <td>1</td>\n",
       "      <td>NaN</td>\n",
       "      <td>3</td>\n",
       "      <td>1</td>\n",
       "    </tr>\n",
       "    <tr>\n",
       "      <th>227</th>\n",
       "      <td>227</td>\n",
       "      <td>North</td>\n",
       "      <td>Product Support</td>\n",
       "      <td>4:00 PM</td>\n",
       "      <td>Outgoing</td>\n",
       "      <td>B</td>\n",
       "      <td>Brent</td>\n",
       "      <td>YES</td>\n",
       "      <td>0</td>\n",
       "      <td>0</td>\n",
       "      <td>10</td>\n",
       "      <td>2</td>\n",
       "      <td>NaN</td>\n",
       "      <td>4</td>\n",
       "      <td>1</td>\n",
       "    </tr>\n",
       "  </tbody>\n",
       "</table>\n",
       "</div>"
      ],
      "text/plain": [
       "     Unnamed: 0 Branch     Call Purpose Time Block Incoming or Outgoing Queue  \\\n",
       "19           19  North    Sales Support   10:00 AM             Incoming     B   \n",
       "40           40  North    Sales Support   12:00 PM             Incoming     B   \n",
       "47           47  North    Sales Support   10:00 AM             Incoming     A   \n",
       "67           67  North    Sales Support   12:00 PM             Incoming     B   \n",
       "69           69  North    Sales Support   12:00 PM             Incoming     A   \n",
       "86           86  North    Sales Support   10:00 AM             Outgoing     B   \n",
       "87           87  North    Sales Support   10:00 AM             Outgoing     B   \n",
       "99           99  North    Sales Support   10:00 AM             Outgoing     A   \n",
       "108         108  North    Sales Support   11:00 AM             Outgoing     B   \n",
       "220         220  North  Product Support    4:00 PM             Outgoing     A   \n",
       "227         227  North  Product Support    4:00 PM             Outgoing     B   \n",
       "\n",
       "     Rep ID  Sale  Lost Call  Abandoned  Busy Minutes  Not Ready Minutes  \\\n",
       "19    Lilly  YES           0          0            11                  2   \n",
       "40    Lilly   YES          0          0            10                  1   \n",
       "47   Amanda   YES          0          0            10                  3   \n",
       "67     Todd   YES          0          0             9                  3   \n",
       "69     Andy   YES          0          0            10                  1   \n",
       "86    Lilly   YES          0          1             9                  3   \n",
       "87    Lilly   YES          0          1            12                  1   \n",
       "99     Andy   YES          0          0            12                  2   \n",
       "108   Lilly   YES          0          0             8                  3   \n",
       "220     Cam   YES          0          0             8                  1   \n",
       "227   Brent   YES          0          0            10                  2   \n",
       "\n",
       "     Incoming Wait Time  During Call Wait Time  Calls  \n",
       "19                  2.0                      4      1  \n",
       "40                  3.0                      2      1  \n",
       "47                  4.0                      3      1  \n",
       "67                  5.0                      4      1  \n",
       "69                  5.0                      2      1  \n",
       "86                  NaN                      4      1  \n",
       "87                  NaN                      4      1  \n",
       "99                  NaN                      2      1  \n",
       "108                 NaN                      2      1  \n",
       "220                 NaN                      3      1  \n",
       "227                 NaN                      4      1  "
      ]
     },
     "execution_count": 17,
     "metadata": {},
     "output_type": "execute_result"
    }
   ],
   "source": [
    "north_df[north_df['Sale'].str.contains('YES')]"
   ]
  },
  {
   "cell_type": "code",
   "execution_count": 18,
   "id": "4e0fbad6",
   "metadata": {},
   "outputs": [
    {
     "data": {
      "text/plain": [
       "NO      234\n",
       "YES      10\n",
       "YES       1\n",
       "Name: Sale, dtype: int64"
      ]
     },
     "execution_count": 18,
     "metadata": {},
     "output_type": "execute_result"
    }
   ],
   "source": [
    "#Code Used\n",
    "north_df['Sale'].value_counts()\n",
    "\n"
   ]
  },
  {
   "cell_type": "code",
   "execution_count": 19,
   "id": "06ac26df",
   "metadata": {},
   "outputs": [],
   "source": [
    "north_df['Sale'] = north_df['Sale'].str.strip()"
   ]
  },
  {
   "cell_type": "code",
   "execution_count": 20,
   "id": "64b0deaa",
   "metadata": {},
   "outputs": [
    {
     "data": {
      "text/plain": [
       "NO     234\n",
       "YES     11\n",
       "Name: Sale, dtype: int64"
      ]
     },
     "execution_count": 20,
     "metadata": {},
     "output_type": "execute_result"
    }
   ],
   "source": [
    "north_df['Sale'].value_counts()"
   ]
  },
  {
   "cell_type": "markdown",
   "id": "715f375a",
   "metadata": {},
   "source": [
    "#### Cleaning Question 3:  Are there duplicates in the two data sets? If there are, how did you handle them?\n",
    "##### Record your answer by double clicking here:\n",
    "> Your Answer: There are no duplicates in the two data sets."
   ]
  },
  {
   "cell_type": "code",
   "execution_count": 21,
   "id": "6ba10ee4",
   "metadata": {},
   "outputs": [
    {
     "name": "stdout",
     "output_type": "stream",
     "text": [
      "0\n"
     ]
    }
   ],
   "source": [
    "print(north_df.duplicated().sum())"
   ]
  },
  {
   "cell_type": "code",
   "execution_count": 22,
   "id": "bc273f30",
   "metadata": {},
   "outputs": [
    {
     "name": "stdout",
     "output_type": "stream",
     "text": [
      "0\n"
     ]
    }
   ],
   "source": [
    "print(south_df.duplicated().sum())"
   ]
  },
  {
   "cell_type": "markdown",
   "id": "8ffaa865",
   "metadata": {},
   "source": [
    "#### Cleaning Question 4:  Is any of the data in the two data sets unnecessary? If yes, how did you handle it?\n",
    "##### Record your answer by double clicking here:\n",
    "> For my analysis, I do not need the call purpose and whether call is incoming or outgoing, so I would like to drop those two columns."
   ]
  },
  {
   "cell_type": "code",
   "execution_count": 23,
   "id": "7bec108d",
   "metadata": {},
   "outputs": [],
   "source": [
    "north_df.drop('Call Purpose', axis = 1, inplace = True)"
   ]
  },
  {
   "cell_type": "code",
   "execution_count": 24,
   "id": "dc997951",
   "metadata": {},
   "outputs": [],
   "source": [
    "south_df.drop('Call Purpose', axis = 1, inplace = True )"
   ]
  },
  {
   "cell_type": "code",
   "execution_count": 25,
   "id": "78b45e70",
   "metadata": {},
   "outputs": [
    {
     "data": {
      "text/html": [
       "<div>\n",
       "<style scoped>\n",
       "    .dataframe tbody tr th:only-of-type {\n",
       "        vertical-align: middle;\n",
       "    }\n",
       "\n",
       "    .dataframe tbody tr th {\n",
       "        vertical-align: top;\n",
       "    }\n",
       "\n",
       "    .dataframe thead th {\n",
       "        text-align: right;\n",
       "    }\n",
       "</style>\n",
       "<table border=\"1\" class=\"dataframe\">\n",
       "  <thead>\n",
       "    <tr style=\"text-align: right;\">\n",
       "      <th></th>\n",
       "      <th>Unnamed: 0</th>\n",
       "      <th>Branch</th>\n",
       "      <th>Time Block</th>\n",
       "      <th>Incoming or Outgoing</th>\n",
       "      <th>Queue</th>\n",
       "      <th>Rep ID</th>\n",
       "      <th>Sale</th>\n",
       "      <th>Lost Call</th>\n",
       "      <th>Abandoned</th>\n",
       "      <th>Busy Minutes</th>\n",
       "      <th>Not Ready Minutes</th>\n",
       "      <th>Incoming Wait Time</th>\n",
       "      <th>During Call Wait Time</th>\n",
       "      <th>Calls</th>\n",
       "    </tr>\n",
       "  </thead>\n",
       "  <tbody>\n",
       "    <tr>\n",
       "      <th>0</th>\n",
       "      <td>0</td>\n",
       "      <td>North</td>\n",
       "      <td>9:00 AM</td>\n",
       "      <td>Incoming</td>\n",
       "      <td>B</td>\n",
       "      <td>Brent</td>\n",
       "      <td>NO</td>\n",
       "      <td>0</td>\n",
       "      <td>1</td>\n",
       "      <td>9</td>\n",
       "      <td>2</td>\n",
       "      <td>1.0</td>\n",
       "      <td>4</td>\n",
       "      <td>1</td>\n",
       "    </tr>\n",
       "    <tr>\n",
       "      <th>1</th>\n",
       "      <td>1</td>\n",
       "      <td>North</td>\n",
       "      <td>11:00 AM</td>\n",
       "      <td>Incoming</td>\n",
       "      <td>A</td>\n",
       "      <td>Cam</td>\n",
       "      <td>NO</td>\n",
       "      <td>0</td>\n",
       "      <td>0</td>\n",
       "      <td>11</td>\n",
       "      <td>1</td>\n",
       "      <td>1.0</td>\n",
       "      <td>3</td>\n",
       "      <td>1</td>\n",
       "    </tr>\n",
       "    <tr>\n",
       "      <th>2</th>\n",
       "      <td>2</td>\n",
       "      <td>North</td>\n",
       "      <td>11:00 AM</td>\n",
       "      <td>Incoming</td>\n",
       "      <td>B</td>\n",
       "      <td>Todd</td>\n",
       "      <td>NO</td>\n",
       "      <td>0</td>\n",
       "      <td>0</td>\n",
       "      <td>9</td>\n",
       "      <td>3</td>\n",
       "      <td>1.0</td>\n",
       "      <td>3</td>\n",
       "      <td>1</td>\n",
       "    </tr>\n",
       "    <tr>\n",
       "      <th>3</th>\n",
       "      <td>3</td>\n",
       "      <td>North</td>\n",
       "      <td>4:00 PM</td>\n",
       "      <td>Incoming</td>\n",
       "      <td>B</td>\n",
       "      <td>Brent</td>\n",
       "      <td>NO</td>\n",
       "      <td>0</td>\n",
       "      <td>0</td>\n",
       "      <td>11</td>\n",
       "      <td>2</td>\n",
       "      <td>1.0</td>\n",
       "      <td>4</td>\n",
       "      <td>1</td>\n",
       "    </tr>\n",
       "    <tr>\n",
       "      <th>4</th>\n",
       "      <td>4</td>\n",
       "      <td>North</td>\n",
       "      <td>12:00 PM</td>\n",
       "      <td>Incoming</td>\n",
       "      <td>B</td>\n",
       "      <td>Brent</td>\n",
       "      <td>NO</td>\n",
       "      <td>0</td>\n",
       "      <td>0</td>\n",
       "      <td>8</td>\n",
       "      <td>2</td>\n",
       "      <td>1.0</td>\n",
       "      <td>4</td>\n",
       "      <td>1</td>\n",
       "    </tr>\n",
       "  </tbody>\n",
       "</table>\n",
       "</div>"
      ],
      "text/plain": [
       "   Unnamed: 0 Branch Time Block Incoming or Outgoing Queue Rep ID Sale  \\\n",
       "0           0  North    9:00 AM             Incoming     B  Brent   NO   \n",
       "1           1  North   11:00 AM             Incoming     A    Cam   NO   \n",
       "2           2  North   11:00 AM             Incoming     B   Todd   NO   \n",
       "3           3  North    4:00 PM             Incoming     B  Brent   NO   \n",
       "4           4  North   12:00 PM             Incoming     B  Brent   NO   \n",
       "\n",
       "   Lost Call  Abandoned  Busy Minutes  Not Ready Minutes  Incoming Wait Time  \\\n",
       "0          0          1             9                  2                 1.0   \n",
       "1          0          0            11                  1                 1.0   \n",
       "2          0          0             9                  3                 1.0   \n",
       "3          0          0            11                  2                 1.0   \n",
       "4          0          0             8                  2                 1.0   \n",
       "\n",
       "   During Call Wait Time  Calls  \n",
       "0                      4      1  \n",
       "1                      3      1  \n",
       "2                      3      1  \n",
       "3                      4      1  \n",
       "4                      4      1  "
      ]
     },
     "execution_count": 25,
     "metadata": {},
     "output_type": "execute_result"
    }
   ],
   "source": [
    "#Code Used\n",
    "north_df.head()"
   ]
  },
  {
   "cell_type": "markdown",
   "id": "f67d89ab",
   "metadata": {},
   "source": [
    "<span style=\"background-color:orangered; color:orangered;\">- - - - - - - - - - - - - - - - - - - - - - - - - - - - - - - - - - - - - - - - - - - - - - - - - - - - - - - - - - - - - - - - - - - - - - - - - - - - - - - - - - - - - - - - -</span>"
   ]
  },
  {
   "cell_type": "markdown",
   "id": "73342a9a",
   "metadata": {},
   "source": [
    "## Data Manipulation\n",
    "Before you begin answering any questions, combine the two datasets together to create a third dataframe called df. You can use this third dataframe to compare the two call centers to company-wide trends.\n",
    "* Add additional code blocks as needed to show how you came to your conclusions. Add comments in your code blocks to help others understand your thinking. Record your answer by double clicking the below cell."
   ]
  },
  {
   "cell_type": "code",
   "execution_count": null,
   "id": "e9705c34",
   "metadata": {},
   "outputs": [],
   "source": [
    "# Create dataframe for the entire company named df\n",
    "\n"
   ]
  },
  {
   "cell_type": "markdown",
   "id": "7e87dfd1",
   "metadata": {},
   "source": [
    "#### Manipulation Question 1:  Group by Rep ID and sum the resulting structure. Sort by calls to determine which rep in each branch has the highest number of calls.\n",
    "\n",
    "##### Record your answer by double clicking here:\n",
    "Rep with the hightest number of calls and their total calls:\n",
    "- North Branch = \n",
    "- South Branch = \n"
   ]
  },
  {
   "cell_type": "code",
   "execution_count": null,
   "id": "3953f09a",
   "metadata": {},
   "outputs": [],
   "source": [
    "# Code Used\n",
    "# Add Additional Cells as needed."
   ]
  },
  {
   "cell_type": "code",
   "execution_count": null,
   "id": "48898029",
   "metadata": {},
   "outputs": [],
   "source": []
  },
  {
   "cell_type": "markdown",
   "id": "809293b9",
   "metadata": {},
   "source": [
    "#### Manipulation Question 2:  The average call abandonment rate is a KPI when it comes to determining call center efficiency. As you may recall, abandoned calls are calls where the customer hangs up due to long call times. What is the average call abandonment rate for each branch and the whole company? Do any of these fall out of the optimal range of 2-5%?\n",
    "##### Record your answer by double clicking here:\n",
    "Average Call Abandonment Rates (round to the nearest hundredth):\n",
    "- North Branch = \n",
    "- South Branch = \n",
    "- Company Wide =\n",
    "- Do any of these fall out of the optimal range of 2-5%?"
   ]
  },
  {
   "cell_type": "code",
   "execution_count": null,
   "id": "3dff7534",
   "metadata": {},
   "outputs": [],
   "source": [
    "# Code Used\n",
    "# Add Additional Cells as needed."
   ]
  },
  {
   "cell_type": "markdown",
   "id": "598bb1bf",
   "metadata": {},
   "source": [
    "#### Manipulation Question 3:  Service level is another KPI when it comes to measuring call center efficiency. Service level is the percentage of calls answered within a specific number of seconds. In the case of your employer, their ideal time frame is 2 seconds. What is the percentage of calls answered within 2 seconds for each branch and the entire company?\n",
    "##### Record your answer by double clicking here:\n",
    "Percentage of calls answered within 2 seconds, include # of calls:\n",
    "- North Branch = \n",
    "- South Branch = \n",
    "- Company Wide = "
   ]
  },
  {
   "cell_type": "code",
   "execution_count": null,
   "id": "2fc8f669",
   "metadata": {},
   "outputs": [],
   "source": [
    "# Code Used\n",
    "# Add Additional Cells as needed."
   ]
  },
  {
   "cell_type": "markdown",
   "id": "7e19e705",
   "metadata": {},
   "source": [
    "#### Manipulation Question 4: For each branch and the entire company, what is the average speed of answer?\n",
    "##### Record your answer by double clicking here:\n",
    "Average speed of answer (rounded to nearest hundredth):\n",
    "- North Branch in seconds = \n",
    "- South Branch in seconds = \n",
    "- Company Wide in seconds = \n"
   ]
  },
  {
   "cell_type": "code",
   "execution_count": null,
   "id": "72a653ed",
   "metadata": {},
   "outputs": [],
   "source": [
    "# Code Used \n"
   ]
  },
  {
   "cell_type": "markdown",
   "id": "ba3ca2cd",
   "metadata": {},
   "source": [
    "<span style=\"background-color:orangered; color:orangered;\">- - - - - - - - - - - - - - - - - - - - - - - - - - - - - - - - - - - - - - - - - - - - - - - - - - - - - - - - - - - - - - - - - - - - - - - - - - - - - - - - - - - - - - - - -</span>"
   ]
  },
  {
   "cell_type": "markdown",
   "id": "d5f50a40",
   "metadata": {},
   "source": [
    "## Visualization\n",
    "\n",
    "Create a visualization for each of the following questions. Some of the code to handle aggregating and storing data may be written for you. For each visualization, you choose the chart style that you feel suits the situation best. Make note of the chart style you chose and why. \n",
    "\n",
    "*NOTE Some questions you may decide to use more than one chart and or chart style."
   ]
  },
  {
   "cell_type": "markdown",
   "id": "66ccf83c",
   "metadata": {},
   "source": [
    "#### Visualization 1:  What is the average abandonment rate per queue?\n",
    "##### Record your answer by double clicking here:\n",
    "\n",
    "> Chart style you chose and why: "
   ]
  },
  {
   "cell_type": "code",
   "execution_count": null,
   "id": "c971d779",
   "metadata": {},
   "outputs": [],
   "source": [
    "# Create visualization 1 here\n",
    "# Import any additional libraries needed with alias\n",
    "\n",
    "\n",
    "\n",
    "# The dictionary abandonment_rates has the data you need.\n",
    "abandonment_rates = {}\n",
    "queues = [\"A\", \"B\", \"C\", \"D\"]\n",
    "queue_dict = df.groupby(\"Queue\").agg(\"sum\")\n",
    "for i in range(4):\n",
    "    abandonment_rates[queues[i]] = queue_dict[\"Abandoned\"][i] / queue_dict[\"Calls\"][i] \n",
    "\n",
    "#Your Code Here:\n",
    "\n",
    "\n"
   ]
  },
  {
   "cell_type": "markdown",
   "id": "4a9fc77f",
   "metadata": {},
   "source": [
    "#### Visualization 2: What is the service level percentage and average speed of answer for each rep in the North Branch?\n",
    "##### Record your answer by double clicking here:\n",
    "\n",
    "> Chart style you chose and why: "
   ]
  },
  {
   "cell_type": "code",
   "execution_count": null,
   "id": "61f65a7f",
   "metadata": {},
   "outputs": [],
   "source": [
    "# Create visualization 2 here\n",
    "# north_plt contains the data you need for the average speed of answer of each rep\n",
    "\n",
    "north_plt = north.groupby(\"Rep ID\")[\"Incoming Wait Time\"].mean().to_frame().reset_index()\n",
    "\n",
    "# Finding each Rep's Personal Service Level Percentage.  Basically, Calls within 2 secs / total calls\n",
    "\n",
    "# Table 1: Total Incoming calls less than 2 seconds grouped by Rep\n",
    "quick_calls = north[north[\"Incoming Wait Time\"] <= 2.0]\n",
    "quick_reps = quick_calls[[\"Rep ID\", \"Calls\"]]\n",
    "quick_stats = quick_reps.groupby([\"Rep ID\"]).sum()  # Final Table\n",
    "\n",
    "\n",
    "# Table 2: Total Incoming Calls Only grouped by Rep\n",
    "total_calls_in = north[north[\"Incoming or Outgoing\"] == \"Incoming\"]\n",
    "rep_calls = total_calls_in[[\"Rep ID\", \"Calls\"]]     \n",
    "total_stats = rep_calls.groupby([\"Rep ID\"]).sum() # Final Table  \n",
    "\n",
    "#  Table 3: Service Level Percentage created via merge\n",
    "service_level = pd.merge(quick_stats, total_stats, on=\"Rep ID\")\n",
    "\n",
    "# Create Percentage Column in Table 3\n",
    "service_level[\"Service Level %\"] = service_level[\"Calls_x\"]/service_level[\"Calls_y\"] * 100\n",
    "\n",
    "#Your Code Here:\n"
   ]
  },
  {
   "cell_type": "markdown",
   "id": "f965e41a",
   "metadata": {},
   "source": [
    "#### Visualization 3: For each type of call purpose, how many calls are outgoing vs. incoming?\n",
    "##### Record your answer by double clicking here:\n",
    "\n",
    "> Chart style you chose and why: "
   ]
  },
  {
   "cell_type": "code",
   "execution_count": null,
   "id": "44096730",
   "metadata": {},
   "outputs": [],
   "source": [
    "# Create visualization 3 here:\n",
    "# The three dictionaries, complaints, sales_support, and product_support, have the information you need\n",
    "\n",
    "purpose_group = df.groupby(\"Call Purpose\")\n",
    "call_purpose = [\"Complaint\", \"Product Support\", \"Sales Support\"]\n",
    "purpose_counts = purpose_group[\"Incoming or Outgoing\"].value_counts()\n",
    "print(purpose_counts)\n",
    "\n",
    "complaints = purpose_counts[\"Complaint\"].to_dict()\n",
    "sales_support = purpose_counts[\"Sales Support\"].to_dict()\n",
    "product_support = purpose_counts[\"Product Support\"].to_dict()\n",
    "\n",
    "#Your Code Here:\n"
   ]
  },
  {
   "cell_type": "markdown",
   "id": "00aa3f29",
   "metadata": {},
   "source": [
    "<span style=\"background-color:orangered; color:orangered;\">- - - - - - - - - - - - - - - - - - - - - - - - - - - - - - - - - - - - - - - - - - - - - - - - - - - - - - - - - - - - - - - - - - - - - - - - - - - - - - - - - - - - - - - - -</span>"
   ]
  },
  {
   "cell_type": "markdown",
   "id": "ea7ed568",
   "metadata": {},
   "source": [
    "## Summarize Your Work\n",
    "\n",
    "With what you know now about the two call centers and the entire company, answer the following questions. Note that while this is subjective, you should include relevant data to back up your opinion.\n"
   ]
  },
  {
   "cell_type": "markdown",
   "id": "d2fc3d13",
   "metadata": {},
   "source": [
    "#### Summary Question 1:  Using KPIs such as average abandonment rate, service level and average speed of answer, in your opinion, which one of the two branches is operating more efficiently? Why?\n",
    "\n",
    "##### Record your answer by double clicking here:\n",
    "> Your Answer: \n",
    "\n"
   ]
  },
  {
   "cell_type": "markdown",
   "id": "489f28d6",
   "metadata": {},
   "source": [
    "#### Summary Question 2: Based on the number of reps in each branch and how quickly the reps are working, in your opinion, which branch would benefit from the extra help?\n",
    "\n",
    "##### Record your answer by double clicking here:\n",
    "> Your Answer: \n"
   ]
  },
  {
   "cell_type": "markdown",
   "id": "0b10a8c3",
   "metadata": {},
   "source": [
    "#### Summary Question 3: Now that you have explored the datasets, is there any data or information that you wish you had in this analysis?\n",
    "\n",
    "##### Record your answer by double clicking here:\n",
    "> Your Answer: \n"
   ]
  },
  {
   "cell_type": "markdown",
   "id": "fd469af4",
   "metadata": {},
   "source": [
    "<span style=\"background-color:orangered; color:orangered;\">- - - - - - - - - - - - - - - - - - - - - - - - - - - - - - - - - - - - - - - - - - - - - - - - - - - - - - - - - - - - - - - - - - - - - - - - - - - - - - - - - - - - - - - - -</span>"
   ]
  },
  {
   "cell_type": "markdown",
   "id": "ce16f43d",
   "metadata": {},
   "source": [
    "## Bonus Mission\n",
    "Create a visualization that answers this question: For each call purpose, how many calls (incoming and outgoing) take place in each time block?\n",
    "##### Record your answer by double clicking here:\n",
    "\n",
    "> Chart style you chose and why: "
   ]
  },
  {
   "cell_type": "code",
   "execution_count": null,
   "id": "71b04f32",
   "metadata": {},
   "outputs": [],
   "source": [
    "# Create your Bonus Mission visualization here!\n",
    "call_times = df[[\"Time Block\", \"Call Purpose\", \"Incoming or Outgoing\", \"Calls\"]]\n",
    "\n",
    "# Use groupby to plot based on time blocks:\n",
    "\n",
    "# Use groupby and get_group to select which call purpose to plot:"
   ]
  }
 ],
 "metadata": {
  "kernelspec": {
   "display_name": "Python 3 (ipykernel)",
   "language": "python",
   "name": "python3"
  },
  "language_info": {
   "codemirror_mode": {
    "name": "ipython",
    "version": 3
   },
   "file_extension": ".py",
   "mimetype": "text/x-python",
   "name": "python",
   "nbconvert_exporter": "python",
   "pygments_lexer": "ipython3",
   "version": "3.10.9"
  }
 },
 "nbformat": 4,
 "nbformat_minor": 5
}
