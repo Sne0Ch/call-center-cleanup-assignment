{
 "cells": [
  {
   "cell_type": "markdown",
   "id": "331a1c4f",
   "metadata": {},
   "source": [
    "# Call Center Cleanup\n",
    "\n",
    "For this assignment, we will be working with call center data. You can start working on the assignment after the first lesson on Exploratory Data Analysis. Make sure to read the whole assignment before starting anything! As you code along in the Jupyter notebook, you are asked to make note of the results of your analysis. Do so by clicking on the results box and adding your notes beside each question.\n",
    "\n",
    "## Business Issue and Understanding\n",
    "\n",
    "You are working for a company that has two call centers: the North Call Center and the South Call Center. The company is looking to possibly hire five additional reps to enhance customer experience. Your task is to explore how efficient the current reps are in each branch to determine which branch would benefit from additional assistance.\n",
    "\n",
    "### How the Call Center Works\n",
    "\n",
    "Call center representatives are assigned queues. When calls are assigned to a queue, the call is assigned to the next person in line in the queue. After a call is assigned to a representative, the amount of time between assignment and the call starting is divided into busy minutes and not ready minutes. If the call is incoming and a customer is waiting on the phone for a rep, the time is split into three categories: busy minutes, not ready minutes, and incoming call wait time. Once the rep has the customer on the phone, there might be during call wait time, where the call is put on hold while the rep gets an answer for the customer.\n",
    "\n",
    "### Notes about the Dataset\n",
    "\n",
    "If you haven't worked in a call center before, these notes might help you throughout your analysis.\n",
    "\n",
    "* The call purpose is tagged for each call.\n",
    "* The time of the call is tagged in 1 hour blocks starting at 9:00 AM and ending at 5:00 PM.\n",
    "* Calls are tagged as incoming or outgoing.\n",
    "* Reps are assigned to queues. When the reps are working, they take calls in the order of their queue.\n",
    "* A call that is dropped due to technical error or missed by the center because they have reached maximum capacity is a lost call.\n",
    "* An abandoned call is when the customer hangs up because they have been waiting for too long.\n",
    "* Busy Minutes: the amount of time after a call comes in or needs to go out where the assigned rep is not available because they are busy with other customers.\n",
    "* Not Ready Minutes: the amount of time after a call comes in or needs to go out where the assigned rep is not available because they are not ready (for example, getting water).\n",
    "* Incoming Wait Time - amount of time after assigned rep is available to take the call customer waits for representative to pick up a call. This is tracked in seconds.\n",
    "* During Call Wait Time - amount of time during call that customer has to wait for representative\n",
    "\n",
    "## Getting Started\n",
    "\n",
    "You have two CSVs at your disposal, `NorthCallCenter.csv` and `SouthCallCenter.csv`. Import the appropriate libraries and create two dataframes, one called `north_df` and one called `south_df`."
   ]
  },
  {
   "cell_type": "code",
   "execution_count": null,
   "id": "f362436b",
   "metadata": {},
   "outputs": [],
   "source": [
    "# Import the appropriate libraries with aliases\n",
    "import numpy as np\n",
    "import pandas as pd\n",
    "from matplotlib import pyplot as plt\n",
    "import seaborn as sns\n",
    "\n",
    "# Create two new dataframes\n",
    "north_df = pd.read_csv('NorthCallCenter.csv')\n",
    "south_df = pd.read_csv('SouthCallCenter.csv')"
   ]
  },
  {
   "cell_type": "markdown",
   "id": "37f77cd4",
   "metadata": {},
   "source": [
    "<span style=\"background-color:orangered; color:orangered;\">- - - - - - - - - - - - - - - - - - - - - - - - - - - - - - - - - - - - - - - - - - - - - - - - - - - - - - - - - - - - - - - - - - - - - - - - - - - - - - - - - - - - - - - - -</span>"
   ]
  },
  {
   "cell_type": "markdown",
   "id": "b4d3484b",
   "metadata": {},
   "source": [
    "## Exploratory Data Analysis\n",
    "\n",
    "Time to do some EDA! In the process of learning more about the two datasets, answer the following questions. In the code blocks below enter the code used to solve the question.  At the end of the section record your answers by double clicking where asked."
   ]
  },
  {
   "cell_type": "code",
   "execution_count": null,
   "id": "c13ac33b",
   "metadata": {},
   "outputs": [],
   "source": [
    "# Checking basic info about dataframe\n",
    "north_df.head()"
   ]
  },
  {
   "cell_type": "markdown",
   "id": "76898991",
   "metadata": {},
   "source": [
    "#### EDA Question 1A:  How many reps are in the North branch?  "
   ]
  },
  {
   "cell_type": "code",
   "execution_count": null,
   "id": "dc92e4f3",
   "metadata": {},
   "outputs": [],
   "source": [
    "north_df['Rep ID'].nunique()"
   ]
  },
  {
   "cell_type": "markdown",
   "id": "2a9b34d8",
   "metadata": {},
   "source": [
    "#### EDA Question 1B:  How many reps are in the South branch?  "
   ]
  },
  {
   "cell_type": "code",
   "execution_count": null,
   "id": "88ed1333",
   "metadata": {},
   "outputs": [],
   "source": [
    "south_df['Rep ID'].nunique()"
   ]
  },
  {
   "cell_type": "markdown",
   "id": "a872f045",
   "metadata": {},
   "source": [
    "#### EDA Question 2A:  What is the average busy minutes, not ready minutes, incoming wait time, and during call wait time for the North branch? "
   ]
  },
  {
   "cell_type": "code",
   "execution_count": null,
   "id": "3759305f",
   "metadata": {},
   "outputs": [],
   "source": [
    "#Code Used:\n",
    "north_df_avg = north_df[[\"Busy Minutes\", \"Not Ready Minutes\", \"Incoming Wait Time\", \"During Call Wait Time\" ]].mean().round(2)\n",
    "print(north_df_avg)"
   ]
  },
  {
   "cell_type": "markdown",
   "id": "3851cf3e",
   "metadata": {},
   "source": [
    "#### EDA Question 2B:  What is the average busy minutes, not ready minutes, incoming wait time, and during call wait time for the South branch? "
   ]
  },
  {
   "cell_type": "code",
   "execution_count": null,
   "id": "a77ec152",
   "metadata": {},
   "outputs": [],
   "source": [
    "#Code Used:\n",
    "south_df_avg = south_df[[\"Busy Minutes\", \"Not Ready Minutes\", \"Incoming Wait Time\", \"During Call Wait Time\" ]].mean().round(2)\n",
    "print(south_df_avg)"
   ]
  },
  {
   "cell_type": "markdown",
   "id": "75915553",
   "metadata": {},
   "source": [
    "#### EDA Question 3:  What is the number of calls taken for each time block(Both North and South combined)?"
   ]
  },
  {
   "cell_type": "code",
   "execution_count": null,
   "id": "b627e64d",
   "metadata": {},
   "outputs": [],
   "source": [
    "# Number of Calls for the North_df\n",
    "north_df_Rep_callsum = north_df.groupby(by=\"Time Block\")[\"Calls\"].sum()\n",
    "north_df_Rep_callsum                                                   "
   ]
  },
  {
   "cell_type": "code",
   "execution_count": null,
   "id": "3c60eab5",
   "metadata": {},
   "outputs": [],
   "source": [
    "# Number of Calls for the South_df\n",
    "south_df_Rep_callsum = (south_df.groupby(['Time Block']).Calls.sum())\n",
    "south_df_Rep_callsum"
   ]
  },
  {
   "cell_type": "code",
   "execution_count": null,
   "id": "76b8d23d",
   "metadata": {},
   "outputs": [],
   "source": [
    "# Total Number of Calls for both North and South DataFrame\n",
    "north_df_Rep_callsum + south_df_Rep_callsum"
   ]
  },
  {
   "cell_type": "markdown",
   "id": "40b1fd3f",
   "metadata": {},
   "source": [
    "##### Record your answers for the EDA section by double clicking here:\n",
    "- 1a) Reps in the North Branch = 9\n",
    "- 1b) Reps in the South Branch = 11\n",
    "\n",
    "\n",
    "- 2a) North Branch, (round to the nearest hundredth):\n",
    "> - Busy Minutes = 9.99\n",
    "> - Not Ready Minutes = 1.91\n",
    "> - Incoming Wait Time = 3.05\n",
    "> - During Call Wait Time = 2.97\n",
    "- 2b) South Branch, (round to the nearest hundredth):\n",
    "> - Busy Minutes = 10.05\n",
    "> - Not Ready Minutes = 1.91\n",
    "> - Incoming Wait Time = 3.00\n",
    "> - During Call Wait Time = 3.08\n",
    "- 3) Total Calls taken for all branches per time block:\n",
    "> - 9:00AM   = 10\n",
    "> - 10:00AM  = 99\n",
    "> - 11:00AM  = 56\n",
    "> - 12:00PM  = 165\n",
    "> - 1:00PM   = 40\n",
    "> - 2:00PM   = 65\n",
    "> - 3:00PM   = 73\n",
    "> - 4:00PM   = 53\n",
    "> - 5:00PM   = 43\n",
    "\n"
   ]
  },
  {
   "cell_type": "markdown",
   "id": "446048d3",
   "metadata": {},
   "source": [
    "<span style=\"background-color:orangered; color:orangered;\">- - - - - - - - - - - - - - - - - - - - - - - - - - - - - - - - - - - - - - - - - - - - - - - - - - - - - - - - - - - - - - - - - - - - - - - - - - - - - - - - - - - - - - - - -</span>"
   ]
  },
  {
   "cell_type": "markdown",
   "id": "366bfb19",
   "metadata": {},
   "source": [
    "## Cleaning Your Data \n",
    "Now you need to clean up the datasets. When cleaning the datasets, you may find that there isn't dirty data to clean. That is okay! Some questions you need to answer about the data sets.\n",
    "* Add additional code blocks as needed to show how you came to your conclusions. Add comments in your code blocks to help others understand your thinking. "
   ]
  },
  {
   "cell_type": "markdown",
   "id": "c3564d69",
   "metadata": {},
   "source": [
    "#### Cleaning Question 1:  Is there any missing data and if yes explain what you would do with the missing data and why?\n",
    "##### Record your answer by double clicking here:\n",
    "> There is missing data in the incoming wait time of 163(67%) values in the north_df and 188 values(60%) in the south_df.\n",
    "I will use Mean of the incoming wait time to impute the missing data."
   ]
  },
  {
   "cell_type": "code",
   "execution_count": null,
   "id": "6acdbd43",
   "metadata": {},
   "outputs": [],
   "source": [
    "# Using code to check the count of missing values at the North Call Center.\n",
    "north_df.isnull().sum()"
   ]
  },
  {
   "cell_type": "code",
   "execution_count": null,
   "id": "d5c3cda3",
   "metadata": {},
   "outputs": [],
   "source": [
    "# Using code to check the total count of missing values in South_df.\n",
    "south_df.isnull().sum()"
   ]
  },
  {
   "cell_type": "code",
   "execution_count": null,
   "id": "e32d13ab",
   "metadata": {},
   "outputs": [],
   "source": [
    "# Checking percentage of missing data in north_df\n",
    "for col in north_df.columns:\n",
    "    pct_missing = np.mean(north_df[col].isnull())\n",
    "    print('{} - {}%'.format(col, round(pct_missing*100)))"
   ]
  },
  {
   "cell_type": "code",
   "execution_count": null,
   "id": "73e80f23",
   "metadata": {},
   "outputs": [],
   "source": [
    "#Checking percentage of missing data in south_df\n",
    "for col in south_df.columns:\n",
    "    pct_missing = np.mean(south_df[col].isnull())\n",
    "    print('{} - {}%'.format(col, round(pct_missing*100)))"
   ]
  },
  {
   "cell_type": "markdown",
   "id": "6f09ca5b",
   "metadata": {},
   "source": [
    "#### Imputing data for null values in Incoming Wait Time.\n",
    "Using a box plot below to check the distribution of the values of Incoming wait Time. As the box plot shows a central distribution and there are no outliers, I will use the mean to impute the null values in the Incoming Wait Time column.\n",
    "\n",
    "In case there was skewing or outliers, I would have used a median or mode to impute the missing values."
   ]
  },
  {
   "cell_type": "code",
   "execution_count": null,
   "id": "d19467f9",
   "metadata": {},
   "outputs": [],
   "source": [
    "# Checking the boxplot for distribution of the incoming wait time for north_df\n",
    "sns.boxplot(x=north_df[\"Incoming Wait Time\"])"
   ]
  },
  {
   "cell_type": "code",
   "execution_count": null,
   "id": "9f3b880d",
   "metadata": {},
   "outputs": [],
   "source": [
    "print(north_df['Incoming Wait Time'].mean().round(2))"
   ]
  },
  {
   "cell_type": "code",
   "execution_count": null,
   "id": "dc8bd48d",
   "metadata": {},
   "outputs": [],
   "source": [
    "# Imputing mean for the missing values\n",
    "north_df['Incoming Wait Time'] = north_df['Incoming Wait Time'].fillna(north_df['Incoming Wait Time'].mean().round(2))"
   ]
  },
  {
   "cell_type": "code",
   "execution_count": null,
   "id": "a889624b",
   "metadata": {},
   "outputs": [],
   "source": [
    "# Checking the boxplot for distribution of the incoming wait time for southth_df\n",
    "sns.boxplot(x=south_df[\"Incoming Wait Time\"])"
   ]
  },
  {
   "cell_type": "code",
   "execution_count": null,
   "id": "2a9e6c8c",
   "metadata": {},
   "outputs": [],
   "source": [
    "print(south_df['Incoming Wait Time'].mean().round(2))"
   ]
  },
  {
   "cell_type": "code",
   "execution_count": null,
   "id": "c701e092",
   "metadata": {},
   "outputs": [],
   "source": [
    "# Imputing mean for the incoming wait time \n",
    "south_df['Incoming Wait Time'] = south_df['Incoming Wait Time'].fillna(south_df['Incoming Wait Time'].mean().round(2))"
   ]
  },
  {
   "cell_type": "markdown",
   "id": "0687bea2",
   "metadata": {},
   "source": [
    "#### Cleaning Question 2:  In the North data set, there are two separate \"YES\" values for a sale. Why and how did you rectify the issue?\n",
    "I removed the extra space in the 'Sale' column using the strip function, and checked back on the value_counts."
   ]
  },
  {
   "cell_type": "code",
   "execution_count": null,
   "id": "4e0fbad6",
   "metadata": {},
   "outputs": [],
   "source": [
    "#Checking the different value counts in the 'Sale Column'\n",
    "north_df['Sale'].value_counts()\n",
    "\n"
   ]
  },
  {
   "cell_type": "code",
   "execution_count": null,
   "id": "369ea1c3",
   "metadata": {},
   "outputs": [],
   "source": [
    "# Stripping any spaces in the 'Sale' column\n",
    "north_df['Sale'] = north_df['Sale'].str.strip()"
   ]
  },
  {
   "cell_type": "code",
   "execution_count": null,
   "id": "150f8bcc",
   "metadata": {},
   "outputs": [],
   "source": [
    "# Rechecking to see if all 'YES' values are in the same column\n",
    "north_df['Sale'].value_counts()"
   ]
  },
  {
   "cell_type": "markdown",
   "id": "715f375a",
   "metadata": {},
   "source": [
    "#### Cleaning Question 3:  Are there duplicates in the two data sets? If there are, how did you handle them?\n",
    "##### Record your answer by double clicking here:\n",
    "> Your Answer: There are no duplicates in the two data sets."
   ]
  },
  {
   "cell_type": "code",
   "execution_count": null,
   "id": "81464fbd",
   "metadata": {},
   "outputs": [],
   "source": [
    "print(north_df.duplicated().sum())"
   ]
  },
  {
   "cell_type": "code",
   "execution_count": null,
   "id": "84c5596e",
   "metadata": {},
   "outputs": [],
   "source": [
    "print(south_df.duplicated().sum())"
   ]
  },
  {
   "cell_type": "code",
   "execution_count": null,
   "id": "37b31b39",
   "metadata": {},
   "outputs": [],
   "source": [
    "north_df.info()"
   ]
  },
  {
   "cell_type": "markdown",
   "id": "8ffaa865",
   "metadata": {},
   "source": [
    "#### Cleaning Question 4:  Is any of the data in the two data sets unnecessary? If yes, how did you handle it?\n",
    "##### Record your answer by double clicking here:\n",
    "> I would like to drop the 'During Call Wait Time' "
   ]
  },
  {
   "cell_type": "code",
   "execution_count": null,
   "id": "92c8a3c0",
   "metadata": {},
   "outputs": [],
   "source": [
    "north_df = north_df.drop(['During Call Wait Time'], axis=1)"
   ]
  },
  {
   "cell_type": "code",
   "execution_count": null,
   "id": "70875eeb",
   "metadata": {},
   "outputs": [],
   "source": [
    "south_df = south_df.drop(['During Call Wait Time'], axis=1)"
   ]
  },
  {
   "cell_type": "markdown",
   "id": "f67d89ab",
   "metadata": {},
   "source": [
    "<span style=\"background-color:orangered; color:orangered;\">- - - - - - - - - - - - - - - - - - - - - - - - - - - - - - - - - - - - - - - - - - - - - - - - - - - - - - - - - - - - - - - - - - - - - - - - - - - - - - - - - - - - - - - - -</span>"
   ]
  },
  {
   "cell_type": "markdown",
   "id": "73342a9a",
   "metadata": {},
   "source": [
    "## Data Manipulation\n",
    "Before you begin answering any questions, combine the two datasets together to create a third dataframe called df. You can use this third dataframe to compare the two call centers to company-wide trends.\n",
    "* Add additional code blocks as needed to show how you came to your conclusions. Add comments in your code blocks to help others understand your thinking. Record your answer by double clicking the below cell."
   ]
  },
  {
   "cell_type": "code",
   "execution_count": null,
   "id": "e9705c34",
   "metadata": {},
   "outputs": [],
   "source": [
    "# Create dataframe for the entire company named df\n",
    "df = pd.concat([north_df, south_df], keys=[\"North\", \"South\"])\n",
    "df"
   ]
  },
  {
   "cell_type": "markdown",
   "id": "7e87dfd1",
   "metadata": {},
   "source": [
    "#### Manipulation Question 1:  Group by Rep ID and sum the resulting structure. Sort by calls to determine which rep in each branch has the highest number of calls.\n",
    "\n",
    "##### Record your answer by double clicking here:\n",
    "Rep with the hightest number of calls and their total calls:\n",
    "- North Branch = Brent, 37\n",
    "- South Branch = Eric, 35\n"
   ]
  },
  {
   "cell_type": "code",
   "execution_count": null,
   "id": "3953f09a",
   "metadata": {},
   "outputs": [],
   "source": [
    "# Creating a pivot table to get the value of total calls of each Rep ID and grouping them by branch.\n",
    "# I have sorted the values of the Rep by their total count.\n",
    "Rep_call_table = df.pivot_table(values = \"Calls\", index = [\"Rep ID\"], columns =[\"Branch\"], aggfunc=np.sum, margins = True, margins_name = \"Call_count\")\n",
    "Rep_call_table.sort_values( \"Call_count\")"
   ]
  },
  {
   "cell_type": "markdown",
   "id": "809293b9",
   "metadata": {},
   "source": [
    "#### Manipulation Question 2:  The average call abandonment rate is a KPI when it comes to determining call center efficiency. As you may recall, abandoned calls are calls where the customer hangs up due to long call times. What is the average call abandonment rate for each branch and the whole company? Do any of these fall out of the optimal range of 2-5%?\n",
    "##### Record your answer by double clicking here:\n",
    "Average Call Abandonment Rates (round to the nearest hundredth):\n",
    "- North Branch = 2.86\n",
    "- South Branch = 1.27\n",
    "- Company Wide = 1.97\n",
    "- Do any of these fall out of the optimal range of 2-5%? 11 values fall out of the optimal range"
   ]
  },
  {
   "cell_type": "code",
   "execution_count": null,
   "id": "07e05100",
   "metadata": {},
   "outputs": [],
   "source": [
    "# Calculating the average abandonment rate grouped by branch\n",
    "aba_rate = ((df.groupby('Branch')['Abandoned'].mean()) * 100).round(2)\n",
    "aba_rate"
   ]
  },
  {
   "cell_type": "code",
   "execution_count": null,
   "id": "352a89ba",
   "metadata": {},
   "outputs": [],
   "source": [
    "# Calculating the average abandonment rate for the whole company\n",
    "(df['Abandoned'].mean() * 100).round(2)"
   ]
  },
  {
   "cell_type": "code",
   "execution_count": null,
   "id": "eeab2dd4",
   "metadata": {},
   "outputs": [],
   "source": [
    "# Second method to calculate abandonment rate grouped by branch\n",
    "x = df.groupby(['Branch']).agg({'Abandoned': 'sum', 'Calls': 'sum'})"
   ]
  },
  {
   "cell_type": "code",
   "execution_count": null,
   "id": "6441eb6f",
   "metadata": {},
   "outputs": [],
   "source": [
    "x['Result'] = ((x.Abandoned/x.Calls) * 100).round(2)\n",
    "x['Result']"
   ]
  },
  {
   "cell_type": "code",
   "execution_count": null,
   "id": "ec5b740e",
   "metadata": {},
   "outputs": [],
   "source": [
    "# Calculate the individual abandonment rates for the whole company\n",
    "Mean_aba_rate = (df.groupby('Unnamed: 0')['Abandoned'].mean()) * 100\n",
    "Mean_aba_rate               "
   ]
  },
  {
   "cell_type": "code",
   "execution_count": null,
   "id": "abee2042",
   "metadata": {},
   "outputs": [],
   "source": [
    "# Checking for any values falling outside optimal range of 2 to 5 %\n",
    "Mean_aba_rate.value_counts()"
   ]
  },
  {
   "cell_type": "markdown",
   "id": "598bb1bf",
   "metadata": {},
   "source": [
    "#### Manipulation Question 3:  Service level is another KPI when it comes to measuring call center efficiency. Service level is the percentage of calls answered within a specific number of seconds. In the case of your employer, their ideal time frame is 2 seconds. What is the percentage of calls answered within 2 seconds for each branch and the entire company?\n",
    "##### Record your answer by double clicking here:\n",
    "Percentage of calls answered within 2 seconds, include # of calls:\n",
    "- North Branch = 40.24 % (33 calls)\n",
    "- South Branch = 38.10 % (48 calls)\n",
    "- Company Wide = 38.94 % (81 calls)"
   ]
  },
  {
   "cell_type": "code",
   "execution_count": null,
   "id": "f037f7fa",
   "metadata": {},
   "outputs": [],
   "source": [
    "# Calculating the total calls answered within 2 seconds : 'quick_call_sum'\n",
    "# Calculate the total number of incoming calls for the whole company :'calls_total'\n",
    "\n",
    "calls_quick = df[df[\"Incoming Wait Time\"] <= 2.0]\n",
    "quick_call_sum = calls_quick[[\"Calls\"]].sum()\n",
    "calls_incoming = df[df[\"Incoming or Outgoing\"] == \"Incoming\"]\n",
    "calls_total = calls_incoming[[\"Calls\"]].sum()"
   ]
  },
  {
   "cell_type": "code",
   "execution_count": null,
   "id": "73009fbe",
   "metadata": {},
   "outputs": [],
   "source": [
    "# Total number of calls answered within 2 seconds\n",
    "quick_call_sum"
   ]
  },
  {
   "cell_type": "code",
   "execution_count": null,
   "id": "ff9a34b2",
   "metadata": {},
   "outputs": [],
   "source": [
    "# Calculating Service level for the whole company with the below formula\n",
    "Service_level_percent  = ((quick_call_sum / calls_total) * 100).round(2)"
   ]
  },
  {
   "cell_type": "code",
   "execution_count": null,
   "id": "f64557f2",
   "metadata": {},
   "outputs": [],
   "source": [
    "Service_level_percent"
   ]
  },
  {
   "cell_type": "markdown",
   "id": "f0baf11d",
   "metadata": {},
   "source": [
    "Next, Calculating the service level by Branch"
   ]
  },
  {
   "cell_type": "code",
   "execution_count": null,
   "id": "eb232228",
   "metadata": {},
   "outputs": [],
   "source": [
    "# Calculating the sum of calls answered within 2 seconds and the total number of incoming calls, and then grouping by Branch.\n",
    "#Creating a table for the results.\n",
    "\n",
    "\n",
    "calls_quick = df[df[\"Incoming Wait Time\"] <= 2.0]\n",
    "quick_call_branch = calls_quick[[\"Branch\", \"Calls\"]]\n",
    "quick_call_branch_sum = quick_call_branch.groupby(\"Branch\").sum()\n",
    "\n",
    "calls_incoming = df[df[\"Incoming or Outgoing\"] == \"Incoming\"]\n",
    "calls_total_branch = calls_incoming[[\"Branch\",\"Calls\"]]\n",
    "calls_total_branch_sum = calls_total_branch.groupby(\"Branch\").sum()\n",
    "\n"
   ]
  },
  {
   "cell_type": "code",
   "execution_count": null,
   "id": "be0359f0",
   "metadata": {},
   "outputs": [],
   "source": [
    "# Merging the above two tables \n",
    "\n",
    "service_level_br = pd.merge(quick_call_branch_sum, calls_total_branch_sum, on=\"Branch\")\n",
    "service_level_br"
   ]
  },
  {
   "cell_type": "code",
   "execution_count": null,
   "id": "f480d680",
   "metadata": {},
   "outputs": [],
   "source": [
    "# Calculating the Service level percent and merging to above table\n",
    "\n",
    "service_level_br[\"Service Level Branch\"] = service_level_br[\"Calls_x\"]/service_level_br[\"Calls_y\"] * 100\n",
    "service_level_br.round(2)"
   ]
  },
  {
   "cell_type": "markdown",
   "id": "7e19e705",
   "metadata": {},
   "source": [
    "#### Manipulation Question 4: For each branch and the entire company, what is the average speed of answer?\n",
    "##### Record your answer by double clicking here:\n",
    "Average speed of answer (rounded to nearest hundredth):\n",
    "- North Branch in seconds = 3.02 \n",
    "- South Branch in seconds = 3.01\n",
    "- Company Wide in seconds = 3.01\n"
   ]
  },
  {
   "cell_type": "code",
   "execution_count": null,
   "id": "72a653ed",
   "metadata": {},
   "outputs": [],
   "source": [
    "# Code Used for Average speed of answer grouped by branch\n",
    "avg_speed_branch = (df.groupby('Branch')['Incoming Wait Time'].mean()).round(2)\n",
    "avg_speed_branch"
   ]
  },
  {
   "cell_type": "code",
   "execution_count": null,
   "id": "88de84bc",
   "metadata": {},
   "outputs": [],
   "source": [
    "# Average speed of answer for whole company\n",
    "df['Incoming Wait Time'].mean().round(2)"
   ]
  },
  {
   "cell_type": "markdown",
   "id": "ba3ca2cd",
   "metadata": {},
   "source": [
    "<span style=\"background-color:orangered; color:orangered;\">- - - - - - - - - - - - - - - - - - - - - - - - - - - - - - - - - - - - - - - - - - - - - - - - - - - - - - - - - - - - - - - - - - - - - - - - - - - - - - - - - - - - - - - - -</span>"
   ]
  },
  {
   "cell_type": "markdown",
   "id": "d5f50a40",
   "metadata": {},
   "source": [
    "## Visualization\n",
    "\n",
    "Create a visualization for each of the following questions. Some of the code to handle aggregating and storing data may be written for you. For each visualization, you choose the chart style that you feel suits the situation best. Make note of the chart style you chose and why. \n",
    "\n",
    "*NOTE Some questions you may decide to use more than one chart and or chart style."
   ]
  },
  {
   "cell_type": "markdown",
   "id": "66ccf83c",
   "metadata": {},
   "source": [
    "#### Visualization 1:  What is the average abandonment rate per queue?\n",
    "##### Record your answer by double clicking here:\n",
    "\n",
    "> Chart style you chose and why: I chose the bar graph as we have categorical values('Queues'). "
   ]
  },
  {
   "cell_type": "code",
   "execution_count": null,
   "id": "c971d779",
   "metadata": {},
   "outputs": [],
   "source": [
    "# Create visualization 1 here\n",
    "# Import any additional libraries needed with alias\n",
    "import matplotlib.pyplot as plt\n",
    "\n",
    "# The dictionary abandonment_rates has the data you need.\n",
    "abandonment_rates = {}\n",
    "queues = [\"A\", \"B\", \"C\", \"D\"]\n",
    "queue_dict = df.groupby(\"Queue\").agg(\"sum\")\n",
    "for i in range(4):\n",
    "    abandonment_rates[queues[i]] = queue_dict[\"Abandoned\"][i] / queue_dict[\"Calls\"][i]\n",
    "    \n",
    "#Your Code Here:\n",
    "# Calculating the average abandonment rate for each Queue and storing it in a new dictionary    \n",
    "avg_abandonment_rates = {}  \n",
    "for i in range(4):    \n",
    "    avg_abandonment_rates[queues[i]] = ((abandonment_rates[queues[i]]) * 100).round(2)\n",
    "\n",
    "# Show the plot\n",
    "#Using the values from the dictionary above to mark the x and y axes and create a bar graph.\n",
    "\n",
    "names = list(abandonment_rates.keys())  # Using the keys from abandonment_rates dictionary as x values (Queue)\n",
    "values = list(avg_abandonment_rates.values()) # Using the values from the avg_abandonment_rates as the y values(avg_abandonment_rate)\n",
    "plt.style.use('seaborn-v0_8-muted')\n",
    "fig, ax = plt.subplots()\n",
    "g = ax.bar(range(len(abandonment_rates)), values, tick_label=names, color = 'red')\n",
    "ax.set_title('Average Abandonment Rates by Queue')\n",
    "ax.set_xlabel('Queue')\n",
    "ax.set_ylabel('Average Abandonment Rate')\n",
    "ax.bar_label(g, label_type=\"center\") \n",
    "plt.show()\n"
   ]
  },
  {
   "cell_type": "markdown",
   "id": "4a9fc77f",
   "metadata": {},
   "source": [
    "#### Visualization 2: What is the service level percentage and average speed of answer for each rep in the North Branch?\n",
    "##### Record your answer by double clicking here:\n",
    "\n",
    "> Chart style you chose and why: I have chosen a bar graph to compare the values of different Rep ID's in the North Branch"
   ]
  },
  {
   "cell_type": "code",
   "execution_count": null,
   "id": "61f65a7f",
   "metadata": {},
   "outputs": [],
   "source": [
    "# Create visualization 2 here\n",
    "# north_plt contains the data you need for the average speed of answer of each rep\n",
    "\n",
    "north_plt = north_df.groupby(\"Rep ID\")[\"Incoming Wait Time\"].mean().to_frame().reset_index()\n",
    "north_plt\n",
    "\n",
    "\n",
    "# Finding each Rep's Personal Service Level Percentage.  Basically, Calls within 2 secs / total calls\n",
    "\n",
    "# Table 1: Total Incoming calls less than 2 seconds grouped by Rep\n",
    "quick_calls = north_df[north_df[\"Incoming Wait Time\"] <= 2.0]\n",
    "quick_reps = quick_calls[[\"Rep ID\", \"Calls\"]]\n",
    "quick_stats = quick_reps.groupby([\"Rep ID\"]).sum()  # Final Table\n",
    "quick_stats\n",
    "\n",
    "# Table 2: Total Incoming Calls Only grouped by Rep\n",
    "total_calls_in = north_df[north_df[\"Incoming or Outgoing\"] == \"Incoming\"]\n",
    "rep_calls = total_calls_in[[\"Rep ID\", \"Calls\"]]     \n",
    "total_stats = rep_calls.groupby([\"Rep ID\"]).sum() # Final Table  \n",
    "total_stats\n",
    "#  Table 3: Service Level Percentage created via merge\n",
    "service_level = pd.merge(quick_stats, total_stats, on=\"Rep ID\")\n",
    "\n",
    "# Create Percentage Column in Table 3\n",
    "service_level[\"Service Level %\"] = service_level[\"Calls_x\"]/service_level[\"Calls_y\"] * 100\n",
    "service_level[\"Service Level %\"]\n",
    "\n",
    "#Your Code Here:\n",
    "\n",
    "# Code to merge all tables above into a single table called 'service_level1'\n",
    "\n",
    "service_level1 = pd.merge(service_level, north_plt, on =\"Rep ID\" )\n",
    "\n",
    "# Code to rename column names of table\n",
    "service_level1.rename(\n",
    "    columns={\"Calls_x\": \"Calls less than two sec\", \"Calls_y\": \"Total calls taken\", \"Incoming Wait Time\": \"Average speed of answer\"},\n",
    "    inplace=True)\n",
    "\n",
    "# Code for Plot\n",
    "service_level1.plot(kind = 'bar', x = \"Rep ID\", width = 0.7, figsize=(10, 8))\n",
    "plt.title(\"Service level North Call Center\")\n",
    "plt.xlabel(\"Rep ID\")\n",
    "plt.ylabel(\"Value\")\n",
    "plt.show()\n",
    "\n",
    "\n"
   ]
  },
  {
   "cell_type": "code",
   "execution_count": null,
   "id": "e6f245f6",
   "metadata": {},
   "outputs": [],
   "source": [
    "service_level1"
   ]
  },
  {
   "cell_type": "markdown",
   "id": "f965e41a",
   "metadata": {},
   "source": [
    "#### Visualization 3: For each type of call purpose, how many calls are outgoing vs. incoming?\n",
    "##### Record your answer by double clicking here:\n",
    "Call Purpose     Incoming or Outgoing\n",
    "\n",
    "Complaint        Incoming -51\n",
    "\n",
    "Product Support  Outgoing -228\n",
    "                 Incoming -82\n",
    "                 \n",
    "Sales Support    Outgoing -123\n",
    "                 Incoming -75\n",
    "\n",
    "> Chart style you chose and why: I chose a Pie Chart as I can easiy see the percentage of incoming or outgoing calls for each section."
   ]
  },
  {
   "cell_type": "code",
   "execution_count": null,
   "id": "44096730",
   "metadata": {},
   "outputs": [],
   "source": [
    "# Create visualization 3 here:\n",
    "# The three dictionaries, complaints, sales_support, and product_support, have the information you need\n",
    "\n",
    "purpose_group = df.groupby(\"Call Purpose\")\n",
    "call_purpose = [\"Complaint\", \"Product Support\", \"Sales Support\"]\n",
    "purpose_counts = purpose_group[\"Incoming or Outgoing\"].value_counts()\n",
    "print(purpose_counts)\n",
    "\n",
    "complaints = purpose_counts[\"Complaint\"].to_dict()\n",
    "sales_support = purpose_counts[\"Sales Support\"].to_dict()\n",
    "product_support = purpose_counts[\"Product Support\"].to_dict()\n",
    "\n",
    "#Your Code Here:\n",
    "\n",
    "plt.pie(complaints.values(), labels = complaints.keys(),\n",
    "        startangle=90, autopct='%.1f%%', colors=plt.cm.Set2.colors)\n",
    "plt.title(\"Complaints\" , fontsize=16)\n",
    "\n"
   ]
  },
  {
   "cell_type": "code",
   "execution_count": null,
   "id": "90a7e125",
   "metadata": {},
   "outputs": [],
   "source": [
    "plt.pie(sales_support.values(), labels = sales_support.keys(),\n",
    "        startangle=90, autopct='%.1f%%', colors=plt.cm.Set2.colors)\n",
    "plt.title(\"Sales Support\" , fontsize=16)"
   ]
  },
  {
   "cell_type": "code",
   "execution_count": null,
   "id": "a7aa9e4c",
   "metadata": {},
   "outputs": [],
   "source": [
    "plt.pie(product_support.values(), labels = product_support.keys(),\n",
    "        startangle=90, autopct='%.1f%%', colors=plt.cm.Set2.colors)\n",
    "plt.title(\"Product Support\" , fontsize=16)"
   ]
  },
  {
   "cell_type": "markdown",
   "id": "00aa3f29",
   "metadata": {},
   "source": [
    "<span style=\"background-color:orangered; color:orangered;\">- - - - - - - - - - - - - - - - - - - - - - - - - - - - - - - - - - - - - - - - - - - - - - - - - - - - - - - - - - - - - - - - - - - - - - - - - - - - - - - - - - - - - - - - -</span>"
   ]
  },
  {
   "cell_type": "markdown",
   "id": "ea7ed568",
   "metadata": {},
   "source": [
    "## Summarize Your Work\n",
    "\n",
    "With what you know now about the two call centers and the entire company, answer the following questions. Note that while this is subjective, you should include relevant data to back up your opinion.\n"
   ]
  },
  {
   "cell_type": "markdown",
   "id": "d2fc3d13",
   "metadata": {},
   "source": [
    "#### Summary Question 1:  Using KPIs such as average abandonment rate, service level and average speed of answer, in your opinion, which one of the two branches is operating more efficiently? Why?\n",
    "\n",
    "##### Record your answer by double clicking here:\n",
    "> Your Answer: The South Branch seems to be operating more efficiently as it has a lower call abandonment rate of 1.27% vs 2.87% in the north. \n",
    "The average speed of answer for the South branch (3.00) is lesser than the North (3.05). \n",
    "Even though, the Service level is (38.10%) for the South branch is slightly lesser than the north branch (40.24% ), these values may not be very accurate as there was a lot of missing date in the 'Incoming Wait Time Column.\n",
    "\n",
    "The number of calls answered (both total incoming and incoming less than 2 seconds) is also much higher in the South branch(48, 126) compared to the North branch(33, 82).\n",
    "\n",
    "I have chosen the KPI of 'average abandonment rate' and 'average speed of answer' to justify which branch is operating more efficiently.\n",
    "\n",
    "\n",
    "\n",
    "\n",
    "\n"
   ]
  },
  {
   "cell_type": "markdown",
   "id": "489f28d6",
   "metadata": {},
   "source": [
    "#### Summary Question 2: Based on the number of reps in each branch and how quickly the reps are working, in your opinion, which branch would benefit from the extra help?\n",
    "\n",
    "##### Record your answer by double clicking here:\n",
    "> Your Answer: The North branch will benefit from the extra help as it has 9 reps compared to the South branch which has 11 reps. The total count of calls is higher in the South Branch(314) compared to the North Branch(245).\n"
   ]
  },
  {
   "cell_type": "markdown",
   "id": "0b10a8c3",
   "metadata": {},
   "source": [
    "#### Summary Question 3: Now that you have explored the datasets, is there any data or information that you wish you had in this analysis?\n",
    "\n",
    "##### Record your answer by double clicking here:\n",
    "> Your Answer: If we had the full data in the 'Incoming Wait Time' column, we could get a more accurate analysis about the Service level in both branches.\n"
   ]
  },
  {
   "cell_type": "markdown",
   "id": "fd469af4",
   "metadata": {},
   "source": [
    "<span style=\"background-color:orangered; color:orangered;\">- - - - - - - - - - - - - - - - - - - - - - - - - - - - - - - - - - - - - - - - - - - - - - - - - - - - - - - - - - - - - - - - - - - - - - - - - - - - - - - - - - - - - - - - -</span>"
   ]
  },
  {
   "cell_type": "markdown",
   "id": "ce16f43d",
   "metadata": {},
   "source": [
    "## Bonus Mission\n",
    "Create a visualization that answers this question: For each call purpose, how many calls (incoming and outgoing) take place in each time block?\n",
    "##### Record your answer by double clicking here:\n",
    "\n",
    "> Chart style you chose and why: I have chosen the bar chart as it makes it easy to see the number of values for each time block.\n",
    "\n",
    "Calls for each TimeBlock\n",
    "\n",
    "9:00 AM  :  10,   10:00 AM :  99,  11:00 AM :  56,   \n",
    "12:00 PM :  120,  1:00 PM  :  40,  2:00 PM  :  65,   \n",
    "3:00 PM  :  73,   4:00 PM  :  53,  5:00 PM  :  43\n"
   ]
  },
  {
   "cell_type": "code",
   "execution_count": null,
   "id": "71b04f32",
   "metadata": {
    "scrolled": false
   },
   "outputs": [],
   "source": [
    "# Create your Bonus Mission visualization here!\n",
    "call_times = df[[\"Time Block\", \"Call Purpose\", \"Incoming or Outgoing\", \"Calls\"]]\n",
    "\n",
    "# Use groupby to plot based on time blocks:\n",
    "\n",
    "df.groupby('Time Block')['Calls'].sum().plot(kind='bar', color = ['#B0E0E6'], ylabel = 'Call Count')\n",
    "\n",
    "\n",
    "\n",
    "\n"
   ]
  },
  {
   "cell_type": "code",
   "execution_count": null,
   "id": "82b4a9f2",
   "metadata": {},
   "outputs": [],
   "source": [
    "call_times"
   ]
  },
  {
   "cell_type": "code",
   "execution_count": null,
   "id": "d4d65e36",
   "metadata": {},
   "outputs": [],
   "source": [
    "df.groupby('Time Block')['Calls'].sum()"
   ]
  },
  {
   "cell_type": "code",
   "execution_count": null,
   "id": "84c3a278",
   "metadata": {},
   "outputs": [],
   "source": [
    "call_purpose_in_out_time_block = df.groupby(['Call Purpose','Incoming or Outgoing', 'Time Block']) \\\n",
    ".agg(calls_sum = ('Calls', 'sum'))\n"
   ]
  },
  {
   "cell_type": "code",
   "execution_count": null,
   "id": "27db1173",
   "metadata": {},
   "outputs": [],
   "source": [
    "call_purpose_in_out_time_block"
   ]
  },
  {
   "cell_type": "code",
   "execution_count": null,
   "id": "bd5831dd",
   "metadata": {},
   "outputs": [],
   "source": [
    "\n",
    "call_purpose_in_out_time_block.plot(kind='barh', figsize= (15,10), xlabel = 'Calls')"
   ]
  },
  {
   "cell_type": "code",
   "execution_count": null,
   "id": "6363732d",
   "metadata": {},
   "outputs": [],
   "source": [
    "\n",
    "# Use groupby and get_group to select which call purpose to plot:\n",
    "\n"
   ]
  },
  {
   "cell_type": "code",
   "execution_count": null,
   "id": "c148f7bc",
   "metadata": {},
   "outputs": [],
   "source": []
  },
  {
   "cell_type": "code",
   "execution_count": null,
   "id": "318e7de2",
   "metadata": {},
   "outputs": [],
   "source": []
  }
 ],
 "metadata": {
  "kernelspec": {
   "display_name": "Python 3 (ipykernel)",
   "language": "python",
   "name": "python3"
  },
  "language_info": {
   "codemirror_mode": {
    "name": "ipython",
    "version": 3
   },
   "file_extension": ".py",
   "mimetype": "text/x-python",
   "name": "python",
   "nbconvert_exporter": "python",
   "pygments_lexer": "ipython3",
   "version": "3.10.9"
  }
 },
 "nbformat": 4,
 "nbformat_minor": 5
}
